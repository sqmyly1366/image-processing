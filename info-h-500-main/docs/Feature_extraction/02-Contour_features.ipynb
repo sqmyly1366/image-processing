{
 "cells": [
  {
   "cell_type": "code",
   "execution_count": null,
   "metadata": {},
   "outputs": [],
   "source": [
    "%matplotlib inline\n",
    "from IPython.display import HTML,Image,SVG,YouTubeVideo"
   ]
  },
  {
   "cell_type": "markdown",
   "metadata": {},
   "source": [
    "# Contour features\n"
   ]
  },
  {
   "cell_type": "markdown",
   "metadata": {},
   "source": [
    "## chain code algorithm\n",
    "Chain code algorithm is a method that describes the contour of a connected set as an ordered set of pixels (see below)."
   ]
  },
  {
   "cell_type": "code",
   "execution_count": null,
   "metadata": {},
   "outputs": [],
   "source": [
    "Image('../data/chain.png')"
   ]
  },
  {
   "cell_type": "markdown",
   "metadata": {
    "collapsed": true
   },
   "source": [
    "The algorithm starts from an arbitrary pixel of the contour, e.g. found by rasterazing the image, the first object point detected being used.\n",
    "\n",
    "at each iteration on try to find the next border pixel, the order of test is givenby the arrows in the upper right corner, starting from the direction just after the direction of arrival, i.e. the first direction(3) correspond to the first detected object pixel starting from (1) because (1) is the first direction after (0) which is the direction of 'arrival' of the raster. The new search position is given by :\n",
    "\n",
    "$$mod_7 (n+5)$$\n",
    "\n",
    "so here the next search direction is\n",
    "\n",
    "$$mod_7 (3+5) = 1$$\n",
    "\n",
    "for the second step, the found direction is (2), the next search direction is \n",
    "\n",
    "$$mod_7 (2+5) = 0$$\n",
    "\n",
    "the process is iterated until the first pixel is reached again.\n",
    "\n",
    "Polygon area and centroid can be computed from the chain code, if $(x_i,y_i)$ if the sequence of object contour,\n",
    "\n",
    "for a chain of $n$ pixels, the area is \n",
    "\n",
    "$$Area = \\frac{\\sum_{i=0}^{n-1}(x_i+x_{mod_n(i+1)})(y_1-y_{mod_n(i-1)})}{2} $$\n",
    "\n",
    "and centroïd is\n",
    "\n",
    "$$g_x = \\frac{\\sum_{i=0}^{n-1}(x_i+x_{mod_n(i+1)})^2(y_1-y_{mod_n(i-1)})^2}{Area} $$\n",
    "\n",
    "$$g_y = \\frac{\\sum_{i=0}^{n-1}(y_i+y_{mod_n(i+1)})^2(x_1-x_{mod_n(i-1)})^2}{Area} $$\n",
    "\n",
    "\n"
   ]
  },
  {
   "cell_type": "markdown",
   "metadata": {
    "collapsed": true
   },
   "source": [
    ">see also:\n",
    "* Chain coding **[DIP]** p484\n"
   ]
  },
  {
   "cell_type": "markdown",
   "metadata": {},
   "source": [
    "## polygonal approximation\n"
   ]
  },
  {
   "cell_type": "code",
   "execution_count": null,
   "metadata": {},
   "outputs": [],
   "source": [
    "Image('../data/polygon.png')"
   ]
  },
  {
   "cell_type": "markdown",
   "metadata": {},
   "source": [
    "## 2D shape descriptors (contours)"
   ]
  },
  {
   "cell_type": "markdown",
   "metadata": {},
   "source": [
    "### Form factor\n",
    "\n",
    "$$Formfactor = \\frac {4 \\pi Area}{Perimeter} $$\n",
    "\n",
    "### Convexity\n",
    "\n",
    "$$Convexity = \\frac {Convex Perimeter}{Perimeter} $$\n",
    "\n",
    "$$Solidity = \\frac {Area}{Convex Area} $$\n",
    "\n",
    "### Moments\n",
    "One define moments such as ($f$ is considered here as a constant e.g. $1$)"
   ]
  },
  {
   "cell_type": "markdown",
   "metadata": {},
   "source": [
    "$$ m_{pq} = \\sum_{p= -\\infty}^{+\\infty}\\sum_{q=-\\infty}^{+\\infty} x^p \\; y^q \\; f(x,y) $$"
   ]
  },
  {
   "cell_type": "markdown",
   "metadata": {},
   "source": [
    "moments are centralized with respect to the object centroïd"
   ]
  },
  {
   "cell_type": "markdown",
   "metadata": {},
   "source": [
    "$$ \\mu_{pq} = \\sum_{p= -\\infty}^{+\\infty}\\sum_{q=-\\infty}^{+\\infty} (x-\\bar x)^p \\; (y-\\bar y)^q \\; f(x,y) $$ \n",
    "\n"
   ]
  },
  {
   "cell_type": "markdown",
   "metadata": {},
   "source": [
    "principal direction is given by\n",
    "\n",
    "$$\\theta = \\tan^{-1} \\big(\\frac{2\\;\\mu_{11}}{\\mu_{20}-\\mu_{02}}\\big)$$\n",
    "\n",
    "\n",
    "\n",
    "$$\n",
    "M = \n",
    "\\begin{bmatrix}\n",
    "    \\mu_{20}       & \\mu_{11} \\\\\n",
    "    \\mu_{11}       & \\mu_{02} \\\\\n",
    "\\end{bmatrix}\n",
    "$$\n",
    "\n",
    "eigen values of $M$ are\n",
    "\n",
    "$$\n",
    "\\lambda_i = \\frac{\\mu_{20} + \\mu_{02}}{2}  \\pm \\frac{\\sqrt{4{\\mu}_{11}^2 + ({\\mu}_{20}-{\\mu}_{02})^2  }}{2}\n",
    "$$\n",
    "\n",
    "**Eccentricity** is given by\n",
    "\n",
    "$$\\sqrt{1 - \\frac{\\lambda_2}{\\lambda_1}}$$"
   ]
  },
  {
   "cell_type": "markdown",
   "metadata": {},
   "source": [
    "### Aspect ratio\n",
    "\n",
    "The aspect ratio is given by the ratio between major and minor axes. The major axis is length of the major axis of the ellipse that has the same normalized second central moments as the shape, similarily, the minor axis is the length of the ellipse mino axis.\n",
    "\n",
    "$$Aspect Ratio = \\frac {Max\\: diameter}{Min\\: diameter} $$\n",
    "\n",
    "The equivallent diameter is the diameter of the disk having the same area.\n",
    "\n",
    "$$Eq.dia. =  \\sqrt { \\frac 4 \\pi Area} $$"
   ]
  },
  {
   "cell_type": "markdown",
   "metadata": {},
   "source": [
    ">see also:\n",
    "* 2D shape descriptors (contours) **[DIP]** p.499 , **[IPH]** p.490\n"
   ]
  },
  {
   "cell_type": "markdown",
   "metadata": {},
   "source": [
    "## Fourier contour description\n",
    "\n",
    "Contour can be seen as a 1D periodic function, e.g. by taking the distance to the centroïd as a function of an angle (see below).\n",
    "The circle has obviously a constant radius whereas the square presents a variable distance..."
   ]
  },
  {
   "cell_type": "code",
   "execution_count": null,
   "metadata": {},
   "outputs": [],
   "source": [
    "Image('../data/unwrapped.png')"
   ]
  },
  {
   "cell_type": "markdown",
   "metadata": {},
   "source": [
    "Still, there is a problem when $r(\\theta)$ is not a function, as illustrated below, for a same $\\theta$, there is two different $r(\\theta)$."
   ]
  },
  {
   "cell_type": "code",
   "execution_count": null,
   "metadata": {},
   "outputs": [],
   "source": [
    "Image('../data/unwrap2.png')"
   ]
  },
  {
   "cell_type": "markdown",
   "metadata": {},
   "source": [
    "One solution, is to use the curvilinear coordinate along the contour and to express the radius with respect to that coordinate.\n",
    "\n",
    "In the example below, one use the distance to the centroid of each contour pixel (chain) as a 1D contour description."
   ]
  },
  {
   "cell_type": "code",
   "execution_count": null,
   "metadata": {},
   "outputs": [],
   "source": [
    "import numpy as np\n",
    "from skimage.morphology import disk, square\n",
    "import matplotlib.pyplot as plt\n",
    "from skimage.measure import label, regionprops, find_contours\n",
    "\n",
    "im = np.zeros((40,80))\n",
    "im[10:10+21,10:10+21] = disk(10)\n",
    "im[10:10+21,50:50+21] = square(21)\n",
    "\n",
    "lab = label(im)\n",
    "props = regionprops(lab)\n",
    "\n",
    "plt.figure(figsize=[10,5])\n",
    "plt.imshow(lab,interpolation='nearest')\n",
    "\n",
    "for obj in props:\n",
    "    perim = find_contours(lab,obj.label-1)[0]\n",
    "    plt.plot(obj.centroid[1],obj.centroid[0],'o')\n",
    "    plt.plot(perim[:,1],perim[:,0])"
   ]
  },
  {
   "cell_type": "code",
   "execution_count": null,
   "metadata": {},
   "outputs": [],
   "source": [
    "labels = ['disk','square']\n",
    "for i,obj in enumerate(props):\n",
    "    perim = find_contours(lab,obj.label-1)[0]\n",
    "    xy = perim - obj.centroid\n",
    "    r = np.sqrt(xy[:,0]**2+xy[:,1]**2)    \n",
    "    plt.plot(r,label=labels[i])\n",
    "plt.gca().set_ylim([0,15])\n",
    "plt.xlabel('position on the contour')    \n",
    "plt.ylabel('distance to centroid')    \n",
    "plt.legend(loc=0);"
   ]
  },
  {
   "cell_type": "markdown",
   "metadata": {},
   "source": [
    "In the example above, the disk exhibits an irregular profile due to its discrete representation.\n",
    "\n",
    "The 1D signalm obtained are periodic by definition. Let's compute a Fourier transform on them."
   ]
  },
  {
   "cell_type": "code",
   "execution_count": null,
   "metadata": {},
   "outputs": [],
   "source": [
    "from numpy.fft import fft, fftshift\n",
    "plt.figure(figsize=[20,3])\n",
    "for i,obj in enumerate(props):\n",
    "    perim = find_contours(lab,obj.label-1)[0]\n",
    "    xy = perim - obj.centroid\n",
    "    r = np.sqrt(xy[:,0]**2+xy[:,1]**2)    \n",
    "    R = fft(r)\n",
    "    plt.subplot(2,1,i+1)\n",
    "    plt.plot(np.real(np.power(fftshift(R),2)),label=labels[i])\n",
    "    \n",
    "    plt.legend(loc=0);\n",
    "    plt.gca().set_ylim([0,1000])\n",
    "    plt.gca().set_xlim([0,r.shape[0]])"
   ]
  },
  {
   "cell_type": "markdown",
   "metadata": {},
   "source": [
    "We see that the Fourier power spectrum of the circle is almost in the continuous part (zero frequency is centered). On the contrary, the square exhibits an important contribution at a frequency corresponding to the oscillations."
   ]
  },
  {
   "cell_type": "markdown",
   "metadata": {},
   "source": [
    "## Fractal analysis\n",
    "\n",
    "The measure of a length is related to the scale used. If the scale is small, the details measured are more numerous and the overall length is higher. In many situations the dependency between scale $\\lambda_i$ and total length $L_2$ the following equation is verified (with a constant $f$) :\n",
    "\n",
    "$$ \\log L_2(X,\\lambda_i) = f \\; \\log \\lambda_i $$\n",
    "\n",
    "\n"
   ]
  },
  {
   "cell_type": "markdown",
   "metadata": {},
   "source": [
    ">see also:\n",
    "* Minkowski fractal dimension  **[IPH]** p442\n"
   ]
  },
  {
   "cell_type": "code",
   "execution_count": null,
   "metadata": {},
   "outputs": [],
   "source": []
  }
 ],
 "metadata": {
  "kernelspec": {
   "display_name": "Python 3",
   "language": "python",
   "name": "python3"
  },
  "language_info": {
   "codemirror_mode": {
    "name": "ipython",
    "version": 3
   },
   "file_extension": ".py",
   "mimetype": "text/x-python",
   "name": "python",
   "nbconvert_exporter": "python",
   "pygments_lexer": "ipython3",
   "version": "3.7.7"
  }
 },
 "nbformat": 4,
 "nbformat_minor": 1
}
