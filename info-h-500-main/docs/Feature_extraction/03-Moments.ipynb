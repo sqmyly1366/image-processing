{
 "cells": [
  {
   "cell_type": "code",
   "execution_count": null,
   "metadata": {},
   "outputs": [],
   "source": [
    "%matplotlib inline\n",
    "from IPython.display import HTML,Image,SVG,YouTubeVideo"
   ]
  },
  {
   "cell_type": "markdown",
   "metadata": {},
   "source": [
    "# Object moments\n",
    "We have seen that moments can be used to describe contours, similarily, the content of the shape can be described by this feature.\n",
    "\n",
    "\n",
    "* definition\n",
    "The definition in the continuous domain is as follow"
   ]
  },
  {
   "cell_type": "markdown",
   "metadata": {},
   "source": [
    "$$ m_{pq} = \\int_{-\\infty}^{+\\infty} \\int_{-\\infty}^{+\\infty} x^p y^q f(x,y)\\:dx\\:dy $$\n",
    "\n",
    "$$ \\mu_{pq} = \\int_{-\\infty}^{+\\infty} \\int_{-\\infty}^{+\\infty} (x-\\bar x)^p (y-\\bar y)^q f(x,y)\\:dx\\:dy $$\n",
    "\n",
    "$$ \\bar{x}=\\frac{m_{10}}{m_{00}},\\bar{y}=\\frac{m_{01}}{m_{00}} $$"
   ]
  },
  {
   "cell_type": "markdown",
   "metadata": {},
   "source": [
    "for a discrete domain, which is the case for image of pixels, we have"
   ]
  },
  {
   "cell_type": "markdown",
   "metadata": {},
   "source": [
    "$$ m_{pq} = \\sum_{x= -\\infty}^{+\\infty}\\sum_{y=-\\infty}^{+\\infty} x^p \\; y^q \\; f(x,y) $$\n",
    "\n",
    "to eliminate the influence of the absolute shape position, one define the centered moments $\\mu$\n",
    "\n",
    "$$ \\mu_{pq} = \\sum_{x= -\\infty}^{+\\infty}\\sum_{y=-\\infty}^{+\\infty} (x-\\bar x)^p \\; (y-\\bar y)^q \\; f(x,y) $$ \n",
    "\n",
    "to eliminate the influence of the scale, one define $\\eta$ as the normalized $\\mu$\n",
    "\n",
    "$$ \\eta_{pq} = \\frac{\\mu_{pq}}{\\mu_{00}^\\gamma} $$\n",
    "\n",
    "with \n",
    "\n",
    "$$ \\gamma = \\frac{p+q}{2} + 1 $$\n",
    "\n",
    "Up to here, $\\eta_{pq}$ are independent to translation and scale, by are still dependent to the rotation\n",
    "\n",
    "Hu defined invariants, called Hu's invariants, that combined $\\eta_{pq}$ having the rotation invariance property,\n",
    "\n",
    "$$  \n",
    "\\begin{align}\n",
    "I_1 =\\ & \\eta_{20} + \\eta_{02} \\\\\n",
    "I_2 =\\ & (\\eta_{20} - \\eta_{02})^2 + (2\\eta_{11})^2 \\\\\n",
    "I_3 =\\ & (\\eta_{30} - 3\\eta_{12})^2 + (3\\eta_{21} - \\eta_{03})^2 \\\\\n",
    "I_4 =\\ & (\\eta_{30} + \\eta_{12})^2 + (\\eta_{21} + \\eta_{03})^2 \\\\\n",
    "I_5 =\\ & (\\eta_{30} - 3\\eta_{12}) (\\eta_{30} + \\eta_{12})[ (\\eta_{30} + \\eta_{12})^2 - 3 (\\eta_{21} + \\eta_{03})^2] + \\\\\n",
    "\\ & (3\\eta_{21} - \\eta_{03}) (\\eta_{21} + \\eta_{03})[ 3(\\eta_{30} + \\eta_{12})^2 -  (\\eta_{21} + \\eta_{03})^2] \\\\\n",
    "I_6 =\\ & (\\eta_{20} - \\eta_{02})[(\\eta_{30} + \\eta_{12})^2 - (\\eta_{21} + \\eta_{03})^2] + 4\\eta_{11}(\\eta_{30} + \\eta_{12})(\\eta_{21} + \\eta_{03}) \\\\\n",
    "I_7 =\\ & (3\\eta_{21} - \\eta_{03})(\\eta_{30} + \\eta_{12})[(\\eta_{30} + \\eta_{12})^2 - 3(\\eta_{21} + \\eta_{03})^2] + \\\\\n",
    "\\ & (\\eta_{30} - 3\\eta_{12})(\\eta_{21} + \\eta_{03})[3(\\eta_{30} + \\eta_{12})^2 - (\\eta_{21} + \\eta_{03})^2].\n",
    "\\end{align}\n",
    "$$\n",
    "\n",
    "High order invariants can be very sensitive to noise, due to the high order exponent in the sum."
   ]
  },
  {
   "cell_type": "markdown",
   "metadata": {
    "collapsed": true
   },
   "source": [
    ">see also:\n",
    "* Moments **[DIP]** p514\n"
   ]
  },
  {
   "cell_type": "code",
   "execution_count": null,
   "metadata": {},
   "outputs": [],
   "source": [
    "import numpy as np\n",
    "from skimage.morphology import disk, square\n",
    "import matplotlib.pyplot as plt\n",
    "from skimage.measure import label,regionprops\n",
    "from skimage.io import imread\n",
    "from scipy.spatial.distance import pdist,squareform\n",
    "\n",
    "ima = imread('http://homepages.ulb.ac.be/~odebeir/data/alphabet.png')[:,:,0]==0\n",
    "lab,nlab = label(ima,return_num=True)\n",
    "\n",
    "# extract label features\n",
    "props = regionprops(lab)\n",
    "\n",
    "hu = []\n",
    "for p in props:\n",
    "    hu.append(p.moments_hu)\n",
    "hu = np.asarray(hu)\n",
    "\n",
    "# normalize Hu's features\n",
    "mean_hu = np.mean(hu,axis=0)\n",
    "std_hu = np.std(hu,axis=0)\n",
    "norm_hu = (hu-mean_hu)/std_hu\n",
    "\n",
    "# compute pairwize distance based on normalized Hu's features\n",
    "dist = squareform(pdist(norm_hu))\n",
    "\n",
    "plt.figure(figsize=[10,10])\n",
    "plt.imshow(dist,interpolation='nearest');\n"
   ]
  },
  {
   "cell_type": "markdown",
   "metadata": {},
   "source": [
    "searching for nearest resembling object, using Hu's invariant features"
   ]
  },
  {
   "cell_type": "code",
   "execution_count": null,
   "metadata": {},
   "outputs": [],
   "source": [
    "idx = np.argsort(dist[1,:])\n",
    "plt.figure()\n",
    "for j,i in enumerate(idx[:16]):\n",
    "    bb = props[i].bbox\n",
    "    crop = ima[bb[0]:bb[2],bb[1]:bb[3]]\n",
    "    plt.subplot(4,4,j+1)\n",
    "    plt.imshow(crop)"
   ]
  },
  {
   "cell_type": "code",
   "execution_count": null,
   "metadata": {},
   "outputs": [],
   "source": []
  }
 ],
 "metadata": {
  "kernelspec": {
   "display_name": "Python 3",
   "language": "python",
   "name": "python3"
  },
  "language_info": {
   "codemirror_mode": {
    "name": "ipython",
    "version": 3
   },
   "file_extension": ".py",
   "mimetype": "text/x-python",
   "name": "python",
   "nbconvert_exporter": "python",
   "pygments_lexer": "ipython3",
   "version": "3.7.7"
  }
 },
 "nbformat": 4,
 "nbformat_minor": 1
}
