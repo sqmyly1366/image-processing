{
 "cells": [
  {
   "cell_type": "code",
   "execution_count": null,
   "metadata": {},
   "outputs": [],
   "source": [
    "%matplotlib inline\n",
    "from IPython.display import HTML,Image,SVG,YouTubeVideo"
   ]
  },
  {
   "cell_type": "markdown",
   "metadata": {},
   "source": [
    "# Statistical features\n"
   ]
  },
  {
   "cell_type": "markdown",
   "metadata": {},
   "source": [
    "The object we consider here are the connected components obtained after the image segmentation (i.e. objects vs. background). Each connected component can be identified using an image labelling algorithm.\n",
    "\n",
    "A feature is a measure extracted from an object. Object recognition is basically the association of a set of feature values with a certain class of object.\n",
    "\n",
    "The first feature that come in mind is the intensity of the object pixels, i.e. the brightness of an object can be used as a descriptor of it, for a color image, one can consider the red, green and blue distributions. More generally we talk about spectral features (relative to the pixels 'color').\n",
    "\n",
    "Of course, spectral mean is interesting, but one can also think about other statistical descriptors such as variance, and other statistical measures.\n",
    "\n",
    "example of a specialized spectral feature:\n",
    "\n",
    "**NDVI** (Normalized Difference Vegetation Index)\n",
    "\n",
    "$$\\mbox{NDVI}=\\frac{(\\mbox{NIR}-\\mbox{VIS})}{(\\mbox{NIR}+\\mbox{VIS})}$$"
   ]
  },
  {
   "cell_type": "code",
   "execution_count": null,
   "metadata": {},
   "outputs": [],
   "source": [
    "Image('https://upload.wikimedia.org/wikipedia/commons/9/94/NDVI_062003.png')"
   ]
  },
  {
   "cell_type": "code",
   "execution_count": null,
   "metadata": {},
   "outputs": [],
   "source": [
    "Image('https://upload.wikimedia.org/wikipedia/commons/7/76/NDVI_102003.png')"
   ]
  },
  {
   "cell_type": "markdown",
   "metadata": {},
   "source": [
    "from [wikipedia](https://en.wikipedia.org/wiki/Normalized_difference_vegetation_index)"
   ]
  },
  {
   "cell_type": "markdown",
   "metadata": {
    "collapsed": true
   },
   "source": [
    "NDVI is a vscalar value extrated from several spectral measures (in one pixel). It enables to characterize the level of vegetation present. The following figure shows how the visible and near infrared spectra are observed in the 7 Landsat spectral bands."
   ]
  },
  {
   "cell_type": "markdown",
   "metadata": {},
   "source": [
    ">see also:\n",
    "* Spectral description (intensity) **[IPH]** p482\n"
   ]
  },
  {
   "cell_type": "code",
   "execution_count": null,
   "metadata": {},
   "outputs": [],
   "source": []
  }
 ],
 "metadata": {
  "kernelspec": {
   "display_name": "Python 3",
   "language": "python",
   "name": "python3"
  },
  "language_info": {
   "codemirror_mode": {
    "name": "ipython",
    "version": 3
   },
   "file_extension": ".py",
   "mimetype": "text/x-python",
   "name": "python",
   "nbconvert_exporter": "python",
   "pygments_lexer": "ipython3",
   "version": "3.7.7"
  }
 },
 "nbformat": 4,
 "nbformat_minor": 1
}
