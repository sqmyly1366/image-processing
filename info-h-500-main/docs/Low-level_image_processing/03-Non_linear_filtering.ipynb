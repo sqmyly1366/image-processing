{
 "cells": [
  {
   "cell_type": "code",
   "execution_count": null,
   "metadata": {},
   "outputs": [],
   "source": [
    "%matplotlib inline\n",
    "from IPython.display import HTML,Image,SVG,YouTubeVideo\n"
   ]
  },
  {
   "cell_type": "markdown",
   "metadata": {},
   "source": [
    "# Rank based filters\n",
    "\n",
    "## Rank vs. weighted sum\n",
    "\n",
    "If the local processing consists in something different from a weighted sum of neighboor pixesl, one can speak of non-linear filters.\n",
    "\n",
    "One important category of non-linear filters are the *rank filters*.\n",
    "\n",
    "These filters use the ranked levels from the neighborhood. "
   ]
  },
  {
   "cell_type": "code",
   "execution_count": null,
   "metadata": {},
   "outputs": [],
   "source": [
    "Image('http://homepages.ulb.ac.be/~odebeir/data/median.png')"
   ]
  },
  {
   "cell_type": "code",
   "execution_count": null,
   "metadata": {},
   "outputs": [],
   "source": [
    "from skimage.data import camera\n",
    "import matplotlib.pyplot as plt\n",
    "import numpy as np\n",
    "\n",
    "# Salt and pepper noise filtering\n",
    "ima = camera()\n",
    "plt.imshow(ima,cmap=plt.cm.gray)\n",
    "\n",
    "n = np.random.random(ima.shape)\n",
    "\n",
    "noised_ima = ima.copy()\n",
    "\n",
    "noised_ima[n<.05] = 0\n",
    "noised_ima[n>.95] = 255\n",
    "\n",
    "plt.imshow(noised_ima,cmap=plt.cm.gray);"
   ]
  },
  {
   "cell_type": "code",
   "execution_count": null,
   "metadata": {},
   "outputs": [],
   "source": [
    "from skimage.filters import rank as skr\n",
    "from skimage.morphology import disk\n",
    "\n",
    "filtered_im = skr.median(noised_ima,disk(1))\n",
    "\n",
    "plt.imshow(filtered_im,cmap=plt.cm.gray);\n"
   ]
  },
  {
   "cell_type": "code",
   "execution_count": null,
   "metadata": {},
   "outputs": [],
   "source": [
    "import matplotlib.pyplot as plt\n",
    "import matplotlib.cm as cm\n",
    "import numpy as np\n",
    "from scipy import ndimage\n",
    "\n",
    "from skimage.data import camera\n",
    "import skimage.filters.rank as skr\n",
    "from skimage.morphology import disk\n",
    "\n",
    "def profile(ima,p0,p1,num):\n",
    "    n = np.linspace(p0[0],p1[0],num)\n",
    "    m = np.linspace(p0[1],p1[1],num)\n",
    "    return [n,m,ndimage.map_coordinates(ima, [m,n], order=0)]\n",
    "\n",
    "im = camera()[-1::-2,::2]\n",
    "\n",
    "#filtered version\n",
    "rank = skr.median(im,disk(10))\n",
    "[x,y,p] = profile(im,(53,200),(73,164),100)\n",
    "[x,y,prank] = profile(rank,(53,200),(73,164),100)\n",
    "\n",
    "fig = plt.figure(1,figsize=[6,6])\n",
    "plt.imshow(rank,interpolation='nearest',cmap=cm.gray,origin='lower')\n",
    "plt.title('local median (radius=10)')\n",
    "plt.plot(x,y)\n",
    "plt.gca().set_xlim((0,255))\n",
    "plt.gca().set_ylim((0,255))\n",
    "\n",
    "\n",
    "\n",
    "fig = plt.figure(2)\n",
    "plt.plot(p,label='original')\n",
    "plt.plot(prank,label='median')\n",
    "plt.title('profile')\n",
    "plt.legend();\n"
   ]
  },
  {
   "cell_type": "code",
   "execution_count": null,
   "metadata": {},
   "outputs": [],
   "source": []
  },
  {
   "cell_type": "code",
   "execution_count": null,
   "metadata": {},
   "outputs": [],
   "source": [
    "#filtered version\n",
    "mean = skr.mean(im,disk(10))\n",
    "[x,y,p] = profile(im,(53,200),(73,164),100)\n",
    "[x,y,pmean] = profile(mean,(53,200),(73,164),100)\n",
    "\n",
    "fig = plt.figure(1,figsize=[6,6])\n",
    "plt.imshow(mean,interpolation='nearest',cmap=cm.gray,origin='lower')\n",
    "plt.title('local mean (radius=10)')\n",
    "plt.plot(x,y)\n",
    "plt.gca().set_xlim((0,255))\n",
    "plt.gca().set_ylim((0,255))\n",
    "\n",
    "fig = plt.figure(2)\n",
    "plt.plot(p,label='original')\n",
    "plt.plot(pmean,label='mean')\n",
    "plt.title('profile')\n",
    "plt.legend();\n"
   ]
  },
  {
   "cell_type": "markdown",
   "metadata": {},
   "source": [
    "Question:\n",
    "* what can we conclude about the border sharpness of the filtered image between the linear smoothing and the median filter?"
   ]
  },
  {
   "cell_type": "markdown",
   "metadata": {},
   "source": [
    "## Local histogram method\n",
    "\n"
   ]
  },
  {
   "cell_type": "code",
   "execution_count": null,
   "metadata": {},
   "outputs": [],
   "source": [
    "Image('http://homepages.ulb.ac.be/~odebeir/data/histo1.png')"
   ]
  },
  {
   "cell_type": "code",
   "execution_count": null,
   "metadata": {},
   "outputs": [],
   "source": [
    "Image('http://homepages.ulb.ac.be/~odebeir/data/histo2.png')"
   ]
  },
  {
   "cell_type": "code",
   "execution_count": null,
   "metadata": {},
   "outputs": [],
   "source": [
    "Image('http://homepages.ulb.ac.be/~odebeir/data/histo3.png')"
   ]
  },
  {
   "cell_type": "markdown",
   "metadata": {},
   "source": [
    "## Local maximum, local minimum\n",
    "\n",
    "Local minimum value and local maximum value are special case of the ranked gray levels.\n",
    "\n",
    "The figure bellow illustrates the effect of respectively replacing the pixel:\n",
    "* by the highest value of its neighboorhood, the local maximum, \n",
    "* by the lowest value of its neighboorhood, the local minimum."
   ]
  },
  {
   "cell_type": "code",
   "execution_count": null,
   "metadata": {},
   "outputs": [],
   "source": [
    "#filtered version\n",
    "radius = 3\n",
    "selem = disk(radius)\n",
    "rank1 = skr.maximum(im,selem)\n",
    "rank2 = skr.minimum(im,selem)\n",
    "rank3 = skr.gradient(im,selem)\n",
    "[x,y,p] = profile(im,(53,200),(73,164),100)\n",
    "[x,y,prank1] = profile(rank1,(53,200),(73,164),100)\n",
    "[x,y,prank2] = profile(rank2,(53,200),(73,164),100)\n",
    "[x,y,prank3] = profile(rank3,(53,200),(73,164),100)\n",
    "\n",
    "fig = plt.figure(1,figsize=[10,10])\n",
    "plt.subplot(1,2,1)\n",
    "plt.imshow(rank1,interpolation='nearest',cmap=cm.gray,origin='lower')\n",
    "plt.title('local maximum (radius=%d)'%radius)\n",
    "plt.subplot(1,2,2)\n",
    "plt.imshow(rank2,interpolation='nearest',cmap=cm.gray,origin='lower')\n",
    "plt.title('local minimum (radius=%d)'%radius)\n",
    "\n",
    "fig = plt.figure(2)\n",
    "plt.plot(p,label='original')\n",
    "plt.plot(prank1,label='maximum')\n",
    "plt.plot(prank2,label='minimum')\n",
    "plt.title('profile')\n",
    "plt.gca().set_ylim([0,210])\n",
    "plt.legend(loc=5);"
   ]
  },
  {
   "cell_type": "markdown",
   "metadata": {},
   "source": [
    "Question:\n",
    "* How to compute borders using local maximum and local minimum ?"
   ]
  },
  {
   "cell_type": "markdown",
   "metadata": {},
   "source": [
    "## Local contrast enhancement\n",
    "### Local contrast equalization"
   ]
  },
  {
   "cell_type": "code",
   "execution_count": null,
   "metadata": {},
   "outputs": [],
   "source": [
    "#local equalization\n",
    "rank = skr.equalize(im,disk(10))\n",
    "[x,y,p] = profile(im,(53,200),(73,164),100)\n",
    "[x,y,prank] = profile(rank,(53,200),(73,164),100)\n",
    "\n",
    "fig = plt.figure(1,figsize=[6,6])\n",
    "plt.imshow(rank,interpolation='nearest',cmap=cm.gray,origin='lower')\n",
    "plt.plot(x,y)\n",
    "plt.gca().set_xlim((0,255))\n",
    "plt.gca().set_ylim((0,255))\n",
    "\n",
    "\n",
    "fig = plt.figure(2)\n",
    "plt.plot(p,label='original')\n",
    "plt.plot(prank,label='equalization')\n",
    "plt.legend();"
   ]
  },
  {
   "cell_type": "markdown",
   "metadata": {},
   "source": [
    "Question:\n",
    "* How to compute an histogram equalization?"
   ]
  },
  {
   "cell_type": "code",
   "execution_count": null,
   "metadata": {},
   "outputs": [],
   "source": [
    "#local auto-level\n",
    "from skimage.io import imread\n",
    "ima = imread('http://homepages.ulb.ac.be/~odebeir/data/bones.png')\n",
    "rank = skr.autolevel(ima,disk(10))\n",
    "\n",
    "def compare(f,g,roi=None):\n",
    "    plt.figure(figsize=[10,10])\n",
    "    plt.subplot(1,2,1)\n",
    "    plt.imshow(f,cmap=plt.cm.gray)\n",
    "    plt.gca().invert_yaxis()\n",
    "    plt.subplot(1,2,2)\n",
    "    plt.imshow(g,cmap=plt.cm.gray)\n",
    "    plt.gca().invert_yaxis()\n",
    "    if roi is not None:\n",
    "        f = f[roi[0]:roi[1],roi[2]:roi[3]]\n",
    "        g = g[roi[0]:roi[1],roi[2]:roi[3]]\n",
    "        plt.figure(figsize=[10,10])\n",
    "        plt.subplot(1,2,1)\n",
    "        plt.imshow(f,cmap=plt.cm.gray)\n",
    "        plt.gca().invert_yaxis()\n",
    "        plt.subplot(1,2,2)\n",
    "        plt.imshow(g,cmap=plt.cm.gray)\n",
    "        plt.gca().invert_yaxis()\n",
    "\n",
    "compare(ima,rank)\n"
   ]
  },
  {
   "cell_type": "markdown",
   "metadata": {},
   "source": [
    "### Local autolevel (with percentile)"
   ]
  },
  {
   "cell_type": "code",
   "execution_count": null,
   "metadata": {},
   "outputs": [],
   "source": [
    "#local soft autolevel\n",
    "rank = skr.autolevel_percentile(im,disk(10),p0=.1,p1=.9)\n",
    "[x,y,p] = profile(im,(53,200),(73,164),100)\n",
    "[x,y,p_rank] = profile(rank,(53,200),(73,164),100)\n",
    "\n",
    "fig = plt.figure(1,figsize=[6,6])\n",
    "plt.imshow(rank,interpolation='nearest',cmap=cm.gray,origin='lower')\n",
    "plt.plot(x,y)\n",
    "plt.gca().set_xlim((0,255))\n",
    "plt.gca().set_ylim((0,255))\n",
    "\n",
    "\n",
    "fig = plt.figure(2)\n",
    "plt.plot(p,label='original')\n",
    "plt.plot(p_rank,label='percentile auto-level')\n",
    "plt.legend();\n"
   ]
  },
  {
   "cell_type": "markdown",
   "metadata": {},
   "source": [
    "### Local morphological contrast enhancement"
   ]
  },
  {
   "cell_type": "code",
   "execution_count": null,
   "metadata": {},
   "outputs": [],
   "source": [
    "#local soft autolevel\n",
    "rank = skr.enhance_contrast_percentile(im,disk(2),p0=.1,p1=.9)\n",
    "[x,y,p] = profile(im,(53,200),(73,164),100)\n",
    "[x,y,prank] = profile(rank,(53,200),(73,164),100)\n",
    "\n",
    "fig = plt.figure(1,figsize=[6,6])\n",
    "plt.imshow(rank,interpolation='nearest',cmap=cm.gray,origin='lower')\n",
    "plt.plot(x,y)\n",
    "plt.gca().set_xlim((0,255))\n",
    "plt.gca().set_ylim((0,255))\n",
    "\n",
    "\n",
    "fig = plt.figure(2)\n",
    "plt.plot(p,label='original')\n",
    "plt.plot(prank,label='local contr. enh. (perc.)')\n",
    "plt.legend();\n"
   ]
  },
  {
   "cell_type": "markdown",
   "metadata": {},
   "source": [
    "## Local threshold"
   ]
  },
  {
   "cell_type": "code",
   "execution_count": null,
   "metadata": {},
   "outputs": [],
   "source": [
    "p0 = (53,200)\n",
    "p1 =(73,164)\n",
    "\n",
    "[x,y,p] = profile(im, p0, p1,100)\n",
    "[x,y,prank] = profile(rank, p0, p1,100)\n",
    "\n",
    "fig = plt.figure(0)\n",
    "plt.imshow(im,interpolation='nearest',cmap=cm.gray,origin='lower')\n",
    "plt.plot(x,y)\n",
    "plt.gca().set_xlim((0,255))\n",
    "plt.gca().set_ylim((0,255))\n",
    "\n",
    "fig = plt.figure(1)\n",
    "plt.imshow(rank,interpolation='nearest',cmap=cm.gray,origin='lower')\n",
    "plt.plot(x,y)\n",
    "plt.gca().set_xlim((0,255))\n",
    "plt.gca().set_ylim((0,255))\n",
    "\n",
    "\n",
    "low = im<=(skr.minimum(im,disk(10))+10)\n",
    "[x,y,p] = profile(im, p0, p1,100)\n",
    "[x,y,prank] = profile(low, p0, p1,100)\n",
    "\n",
    "fig = plt.figure(2)\n",
    "ax1 = plt.subplot(1, 1, 1)\n",
    "ax2 = ax1.twinx()\n",
    "ax1.plot(p,label='original')\n",
    "ax2.plot(prank,'g',label='lowest')\n",
    "ax2.legend()\n",
    "\n",
    "high = im>=(skr.maximum(im,disk(10))-10)\n",
    "[x,y,p] = profile(im, p0, p1,100)\n",
    "[x,y,prank] = profile(high, p0, p1,100)\n",
    "\n",
    "fig = plt.figure(3)\n",
    "plt.imshow(high,interpolation='nearest',cmap=cm.gray,origin='lower')\n",
    "plt.plot(x,y)\n",
    "plt.gca().set_xlim((0,255))\n",
    "plt.gca().set_ylim((0,255))\n",
    "\n",
    "fig = plt.figure(4)\n",
    "ax1 = plt.subplot(1, 1, 1)\n",
    "ax2 = ax1.twinx()\n",
    "ax1.plot(p,label='original')\n",
    "ax2.plot(prank,'g',label='highest')\n",
    "ax2.legend();\n",
    "\n"
   ]
  },
  {
   "cell_type": "markdown",
   "metadata": {},
   "source": [
    "# others non linear-filters\n",
    "\n",
    "## Bi-lateral filtering\n",
    "\n",
    "We define the neighboorhood of a pixel as:\n",
    "* a local spatial neighboorhood and\n",
    "* a spectral (gray-level) neighboorhood\n"
   ]
  },
  {
   "cell_type": "code",
   "execution_count": null,
   "metadata": {},
   "outputs": [],
   "source": [
    "from skimage.restoration import denoise_bilateral\n",
    "from skimage import img_as_float\n",
    "ima = img_as_float(camera()[-1::-1])\n",
    "#add noise\n",
    "noisy = np.clip(ima+.1*np.random.random(ima.shape),0,1)\n",
    "bilat = denoise_bilateral(noisy, sigma_spatial=15,multichannel=False)\n",
    "\n",
    "compare(255*noisy,255*bilat)"
   ]
  },
  {
   "cell_type": "markdown",
   "metadata": {},
   "source": [
    ">see also:\n",
    "* bi-lateral filtering [Paris08](../00-Preface/06-References.ipynb#[Paris08])"
   ]
  },
  {
   "cell_type": "markdown",
   "metadata": {},
   "source": [
    "## Anisotropic filter\n",
    "### Nagao\n",
    "This is an edge preserving smoothing.\n",
    "\n",
    "* one define 5 anisotropic 5x5 complementary filters (<>directions)\n",
    "* mean and variance are computed on filter\n",
    "* filtered value is the mean of the lowest variance filter"
   ]
  },
  {
   "cell_type": "code",
   "execution_count": null,
   "metadata": {},
   "outputs": [],
   "source": [
    "Image('http://homepages.ulb.ac.be/~odebeir/data/nagao.png')"
   ]
  },
  {
   "cell_type": "markdown",
   "metadata": {},
   "source": [
    ">see also:\n",
    "* Edge preserving smoothing. Makoto Nagao and Takashi Matsuyama. Computer Graphics and Image Processing. Volume 9, Issue 4, April 1979, Pages 394-407\n",
    "* Rotating filter [IPAMV](../00-Preface/06-References.ipynb#[IPAMV]) pp72"
   ]
  },
  {
   "cell_type": "markdown",
   "metadata": {},
   "source": [
    "### Diffusion filter\n",
    "\n",
    "* smoothing is formulated as a diffusive process\n",
    "* smoothing is performed at intra regions\n",
    "* and suppressed at region boundaries\n",
    "\n",
    "the iteration is given by:"
   ]
  },
  {
   "cell_type": "markdown",
   "metadata": {},
   "source": [
    "$$I_t = div\\big(D(|\\nabla I|)\\nabla u\\big)$$ \n",
    "\n",
    "where $I_t$ is the time derivative of $I$, the image, $D$ is a diffusion function and $\\nabla$ denotes the gradient.\n",
    "\n",
    "Diffusion function can be defined such as:\n",
    "$$ D(\\nabla I) = e^{-(\\nabla I / k)^2}$$\n",
    "\n",
    "or\n",
    "\n",
    "$$ D(\\nabla I) = \\frac{1}{1+(\\frac{\\nabla I}{k})^2}$$\n",
    "\n",
    "Solution is found using an iterative approach on the discretized image grid (e.g. for 3D volume):\n",
    "\n",
    "$$I_{x,y,z}^{t+1} = I_{x,y,z}^{t} + \\lambda \\sum_{R=1}^{6} \\big[ D(\\nabla _R I) \\nabla _R I \\big]$$\n",
    "\n",
    "and the gradient evaluated via finite differences:\n",
    "\n",
    "$$\n",
    "\\nabla _1 I_{x,y,z} = I_{x-1,y,z} - I_{x,y,z}, \\\\\n",
    "\\nabla _2 I_{x,y,z} = I_{x+1,y,z} - I_{x,y,z}, \\\\\n",
    "\\nabla _3 I_{x,y,z} = I_{x,y-1,z} - I_{x,y,z}, \\\\\n",
    "\\nabla _4 I_{x,y,z} = I_{x,y+1,z} - I_{x,y,z}, \\\\\n",
    "\\nabla _5 I_{x,y,z} = I_{x,y,z-1} - I_{x,y,z}, \\\\\n",
    "\\nabla _6 I_{x,y,z} = I_{x,y,z+1} - I_{x,y,z}, \\\\\n",
    "$$\n",
    "\n",
    "The following figure illustrates the application of the diffusion function:\n",
    "\n",
    "$$ D(\\nabla I) = e^{-(\\nabla I / k)^2}$$\n",
    "\n",
    "after a few iterations, the noise is removed while the heavy borders are conserved."
   ]
  },
  {
   "cell_type": "code",
   "execution_count": null,
   "metadata": {},
   "outputs": [],
   "source": []
  },
  {
   "cell_type": "markdown",
   "metadata": {},
   "source": [
    ">see also:\n",
    "* Ovidiu Ghita, Kevin Robinson, Michael Lynch, Paul F. Whelan . MRI diffusion-based\n",
    "filtering: a note on performance characterisation. Computerized Medical Imaging and Graphics 29 (2005) 267–277\n",
    "* diffusion based edge detection [IVP](../00-Preface/06-References.ipynb#[IVP]) p433, [HCVA](../00-Preface/06-References.ipynb#[HCVA]) vol2 p425\n",
    "* Pietro Perona and Jitendra Malik (July 1990). \"Scale-space and edge\n",
    "detection using anisotropic diffusion\". IEEE Transactions on Pattern Analysis\n",
    "and Machine Intelligence, 12 (7): 629–639"
   ]
  },
  {
   "cell_type": "markdown",
   "metadata": {},
   "source": [
    "## Non-local image denoising\n",
    "\n",
    "* filtered image is a weighted mean of pixels belonging to the “neighboorhood”\n",
    "* similarity between pixel i and j is function of there local gray level distribution, the pixels with a similar grey level neighbourhood have larger weights in the average\n",
    "\n",
    "$$f_{new}(p) = \\frac{1}{W(p)} \\sum_{q \\in N(p)}  w(p,q) f(q)$$\n",
    "\n",
    "with\n",
    "\n",
    "$$ W(p) = \\sum_{q \\in N(p)} w(p,q)$$\n",
    "\n",
    "* generalized distance defined as the weighted Euclidian distance between two i,j surrounding pixels "
   ]
  },
  {
   "cell_type": "code",
   "execution_count": null,
   "metadata": {},
   "outputs": [],
   "source": [
    "Image('http://openi.nlm.nih.gov/imgs/512/290/2292807/2292807_IJBI2008-590183.001.png')"
   ]
  },
  {
   "cell_type": "code",
   "execution_count": null,
   "metadata": {},
   "outputs": [],
   "source": [
    "#Image('http://deliveryimages.acm.org/10.1145/1950000/1941513/figs/f4.jpg')\n",
    "Image('http://deliveryimages.acm.org/10.1145/1950000/1941513/figs/f4.jpg',embed=False)\n"
   ]
  },
  {
   "cell_type": "markdown",
   "metadata": {},
   "source": [
    "<sup>[image source](http://deliveryimages.acm.org/10.1145/1950000/1941513/figs/f4.jpg)"
   ]
  },
  {
   "cell_type": "markdown",
   "metadata": {},
   "source": [
    ">see also:\n",
    "* A non-local algorithm for image denoising [Buades05](../00-Preface/06-References.ipynb#[Buades05])"
   ]
  },
  {
   "cell_type": "code",
   "execution_count": null,
   "metadata": {},
   "outputs": [],
   "source": []
  }
 ],
 "metadata": {
  "kernelspec": {
   "display_name": "Python 3",
   "language": "python",
   "name": "python3"
  },
  "language_info": {
   "codemirror_mode": {
    "name": "ipython",
    "version": 3
   },
   "file_extension": ".py",
   "mimetype": "text/x-python",
   "name": "python",
   "nbconvert_exporter": "python",
   "pygments_lexer": "ipython3",
   "version": "3.7.7"
  }
 },
 "nbformat": 4,
 "nbformat_minor": 1
}
