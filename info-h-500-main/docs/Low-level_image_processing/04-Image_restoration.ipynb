{
 "cells": [
  {
   "cell_type": "code",
   "execution_count": null,
   "metadata": {},
   "outputs": [],
   "source": [
    "%matplotlib inline\n",
    "from IPython.display import HTML,Image,SVG,YouTubeVideo\n"
   ]
  },
  {
   "cell_type": "markdown",
   "metadata": {},
   "source": [
    "# Image restoration\n",
    "Image acquisition is rarely perfect,  physics or external condition may deform the image being acquired, here are some example of typicall problems:\n",
    "\n",
    "\n",
    "\n",
    "## Deformation model\n",
    "The original image is $f(x,y)$ undergoes a deformation, given by $H$, and an additive noise $\\eta(x,y)$ the acquired image is $g(x,y)$. \n",
    "\n",
    "The restoration problem can be stated as follow:\n",
    "\n",
    "how to recover a good approximation of $f(x,y)$ from $g(x,y)$?\n"
   ]
  },
  {
   "cell_type": "code",
   "execution_count": null,
   "metadata": {},
   "outputs": [],
   "source": [
    "Image('http://homepages.ulb.ac.be/~odebeir/data/restauration.png')"
   ]
  },
  {
   "cell_type": "markdown",
   "metadata": {},
   "source": [
    "Some examples:"
   ]
  },
  {
   "cell_type": "markdown",
   "metadata": {},
   "source": [
    "$$g(x,y) = H[f(x,y)] + \\eta(x,y)$$\n",
    "\n",
    "$H$ properties:\n",
    "\n",
    "* linear\n",
    "\n",
    "$$ H[k_1 f_1(x,y) + k_2 f_2(x,y)] = k_1 H[f_1(x,y)] + k_2 H[f_2(x,y)]$$\n",
    "\n",
    "* additive\n",
    "\n",
    "$$ H[f_1(x,y) + f_2(x,y)] = H[f_1(x,y)] + H[f_2(x,y)]$$\n",
    "\n",
    "* homogeneous\n",
    "\n",
    "$$ H[k_1 f_1(x,y)] = k_1 H[f_1(x,y)]$$\n",
    "\n",
    "* spatially invariant\n",
    "\n",
    "$$ H[f(x-\\alpha,y-\\beta)] = g(x-\\alpha,y-\\beta)$$"
   ]
  },
  {
   "cell_type": "markdown",
   "metadata": {},
   "source": [
    "## Point Spread Function (PSF)\n",
    "We can rewrite $f(x,y)$ as a sum of Dirac function.\n",
    "\n",
    "$$f(x,y) = \\int_{-\\infty}^{\\infty}\\int_{-\\infty}^{\\infty} f(\\alpha,\\beta) \\, \\delta(x-\\alpha,y-\\beta) \\, d\\alpha \\, d\\beta$$\n",
    "\n",
    "if there is no addiditive noise:\n",
    "\n",
    "$$\\begin{eqnarray}g(x,y) &=& H[f(x,y)] \\\\ \\\\\n",
    "&=& H \\big[ \\int_{-\\infty}^{\\infty}\\int_{-\\infty}^{\\infty} f(\\alpha,\\beta) \\, \\delta(x-\\alpha,y-\\beta) \\, d\\alpha \\, d\\beta \\, \\big] \n",
    "\\end{eqnarray}$$\n",
    "\n",
    "by linearity property:\n",
    "\n",
    "$$g(x,y) = \\int_{-\\infty}^{\\infty}\\int_{-\\infty}^{\\infty} H \\big[f(\\alpha,\\beta) \\, \\delta(x-\\alpha,y-\\beta)\\big] \\, d\\alpha \\, d\\beta $$\n",
    "\n",
    "$f(\\alpha,\\beta)$ is independant of $x$ and $y$:\n",
    "\n",
    "$$g(x,y) = \\int_{-\\infty}^{\\infty}\\int_{-\\infty}^{\\infty}f(\\alpha,\\beta)\\, H \\big[ \\, \\delta(x-\\alpha,y-\\beta)\\big] \\, d\\alpha \\, d\\beta $$\n",
    "\n",
    "the impulse response of $H$, also known as point spread function (PSF),  is:\n",
    "\n",
    "$$h(x,\\alpha,y,\\beta) = H\\big[ \\delta(x-\\alpha,y-\\beta)\\big]$$\n",
    "\n",
    "after substitution we have:\n",
    "\n",
    "$$g(x,y) = \\int_{-\\infty}^{\\infty}\\int_{-\\infty}^{\\infty}f(\\alpha,\\beta)\\, h(x,\\alpha,y,\\beta) \\, d\\alpha \\, d\\beta $$\n",
    "\n",
    "this expression means that, if the response H of an impulse is known, the response of any input $f(\\alpha,\\beta)$ is known.\n",
    "\n",
    "if $h$ is spatially invariant (see above):\n",
    "\n",
    "$$g(x,y) = \\int_{-\\infty}^{\\infty}\\int_{-\\infty}^{\\infty}f(\\alpha,\\beta)\\, h(x-\\alpha,y-\\beta) \\, d\\alpha \\, d\\beta$$\n",
    "\n",
    "by adding the noise:\n",
    "\n",
    "$$g(x,y) = \\int_{-\\infty}^{\\infty}\\int_{-\\infty}^{\\infty}f(\\alpha,\\beta)\\, h(x-\\alpha,y-\\beta) \\, d\\alpha \\, d\\beta + \\eta(x,y)$$\n",
    "\n",
    "> see also:\n",
    "* [DIP](../00-Preface/06-References.ipynb#[DIP]) p254"
   ]
  },
  {
   "cell_type": "markdown",
   "metadata": {},
   "source": [
    "## Restoration\n",
    "### inverse filtering\n",
    "\n",
    "If noise is negligeable and PSF is known (in the Fourier domain):\n",
    "\n",
    "$$\\begin{eqnarray}\n",
    "\\hat F(u,v) &=& \\frac{G(u,v)}{H(u,v)}\\\\\n",
    "\\hat f(x,y) &=& \\mathcal F^{-1} \\big[ \\hat F(u,v) \\big]\\\\\n",
    "            &=& \\mathcal F^{-1} \\big[\\frac{G(u,v)}{H(u,v)}\\big]\n",
    "\\end{eqnarray}\n",
    "$$\n",
    "\n",
    "else:\n",
    "\n",
    "$$\\hat F(u,v) = F(u,v) + \\frac{N(u,v)}{H(u,v)}$$\n",
    "\n",
    "and noise is increasing when $H$ is low, restoration is limited where $H$ is big.\n",
    "\n",
    "if define a restoration transform $M(u,v)$ as:\n",
    "\n",
    "$$\\hat F(u,v) = (G(u,v)+N(u,v)) M(u,v)$$\n",
    "\n",
    "one can use:\n",
    "\n",
    "$$M(u,v) = \\begin{cases}1/H(u,v),\\, \\qquad & u^2+v^2 \\le& w_0 ^2\\\\\n",
    "1, \\qquad & u^2+v^2 >& w_0 ^2\n",
    "\\end{cases}\n",
    "$$\n",
    "\n",
    "with $w_0$ being a distance to the origin in the Fourier space.\n",
    "\n",
    "\n",
    "> see also:\n",
    "* [DPP](../00-Preface/06-References.ipynb#[DPP]) p276"
   ]
  },
  {
   "cell_type": "markdown",
   "metadata": {},
   "source": [
    "### Wiener filtering\n",
    "\n",
    "To avoid arbitrary setting of a parameter for theinverse transform such as $w_0$, one can use the Wiener approach wich consists in minimizing by least square some error function.\n",
    "\n",
    "Without going into the details, the restoration transform is:\n",
    "\n",
    "$$M(u,v) = \\frac{H^*(u,v)}{|H(u,v)|^2+\\frac{S_{\\nu \\nu}(u,v)}{S_{gg}(u,v)}}$$\n",
    "\n",
    "where $H^*(u,v)$ is the complex conjugate of $H(u,v)$,\n",
    "\n",
    "$S_{\\nu \\nu}(u,v)$ is the spectral density of the noise and\n",
    "\n",
    "$S_{gg}(u,v)$ is the spectral density of the degraded image.\n",
    "\n",
    "> see also:\n",
    "* [IPAMV](../00-Preface/06-References.ipynb#[IPAMV]) p107"
   ]
  },
  {
   "cell_type": "markdown",
   "metadata": {},
   "source": [
    "### Blind deconvolution\n",
    "\n",
    "If PSF in unknown, is has to be estimated. This is called blind deconvolution.\n",
    "\n"
   ]
  },
  {
   "cell_type": "code",
   "execution_count": null,
   "metadata": {},
   "outputs": [],
   "source": [
    "Image('http://bigwww.epfl.ch/algorithms/deconvolutionlab/meta/splash.png')"
   ]
  },
  {
   "cell_type": "markdown",
   "metadata": {},
   "source": [
    "<sup>[image source](http://bigwww.epfl.ch/algorithms/deconvolutionlab/)"
   ]
  },
  {
   "cell_type": "code",
   "execution_count": null,
   "metadata": {},
   "outputs": [],
   "source": []
  }
 ],
 "metadata": {
  "kernelspec": {
   "display_name": "Python 3",
   "language": "python",
   "name": "python3"
  },
  "language_info": {
   "codemirror_mode": {
    "name": "ipython",
    "version": 3
   },
   "file_extension": ".py",
   "mimetype": "text/x-python",
   "name": "python",
   "nbconvert_exporter": "python",
   "pygments_lexer": "ipython3",
   "version": "3.7.7"
  }
 },
 "nbformat": 4,
 "nbformat_minor": 1
}
