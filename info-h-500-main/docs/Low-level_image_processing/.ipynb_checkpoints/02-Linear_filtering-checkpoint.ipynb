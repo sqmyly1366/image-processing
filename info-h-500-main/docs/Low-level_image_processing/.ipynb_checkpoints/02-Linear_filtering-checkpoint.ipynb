{
 "cells": [
  {
   "cell_type": "code",
   "execution_count": null,
   "metadata": {},
   "outputs": [],
   "source": [
    "%matplotlib inline\n",
    "\n",
    "from IPython.display import HTML,Image,SVG,YouTubeVideo\n"
   ]
  },
  {
   "cell_type": "markdown",
   "metadata": {},
   "source": [
    "# Linear filtering\n",
    "\n",
    "In the previous chapter, the processed value of a pixel was only a function of its orignal value. Here the processed value will also take into account the surrounding pixels as well. We speak about pixel *neighborhood. *\n",
    "\n",
    "## Neighborhood\n",
    "Pixel neighborhood is defined by a binary structuring element $B$ having an origin."
   ]
  },
  {
   "cell_type": "code",
   "execution_count": null,
   "metadata": {},
   "outputs": [],
   "source": [
    "Image('http://homepages.ulb.ac.be/~odebeir/data/b.png')"
   ]
  },
  {
   "cell_type": "markdown",
   "metadata": {},
   "source": [
    "For a specific pixel (the gray one below), the neighborhood defined by $B$ ..."
   ]
  },
  {
   "cell_type": "code",
   "execution_count": null,
   "metadata": {},
   "outputs": [],
   "source": [
    "Image('http://homepages.ulb.ac.be/~odebeir/data/b1.png')"
   ]
  },
  {
   "cell_type": "markdown",
   "metadata": {},
   "source": [
    "is the ensemble of pixels belonging to $B$ when its origin is moved on the pixel of interest."
   ]
  },
  {
   "cell_type": "code",
   "execution_count": null,
   "metadata": {},
   "outputs": [],
   "source": [
    "Image('http://homepages.ulb.ac.be/~odebeir/data/b2.png')"
   ]
  },
  {
   "cell_type": "markdown",
   "metadata": {},
   "source": [
    "Structuring elements can have any size and shape. Often the size of the structuring element will directly impact the process and also the processing time. \n",
    "\n",
    "The previous element is known as the 4-neighbors.\n",
    "\n",
    "Common structuring element are:"
   ]
  },
  {
   "cell_type": "code",
   "execution_count": null,
   "metadata": {},
   "outputs": [],
   "source": [
    "Image('http://homepages.ulb.ac.be/~odebeir/data/b3.png')"
   ]
  },
  {
   "cell_type": "markdown",
   "metadata": {},
   "source": [
    "the upper right is known as the 8-neighbors, we understand why...\n",
    "\n",
    "One also use bigger element, such as disk with a bigger radious such as:"
   ]
  },
  {
   "cell_type": "code",
   "execution_count": null,
   "metadata": {},
   "outputs": [],
   "source": [
    "from skimage.morphology import disk\n",
    "import numpy as np\n",
    "import matplotlib.pyplot as plt\n",
    "from matplotlib import cm\n",
    "from skimage.data import camera\n",
    "plt.style.use('ggplot')\n",
    "\n"
   ]
  },
  {
   "cell_type": "markdown",
   "metadata": {},
   "source": [
    "Question:\n",
    "* what appens close to the borders ?"
   ]
  },
  {
   "cell_type": "code",
   "execution_count": null,
   "metadata": {},
   "outputs": [],
   "source": [
    "Image('http://homepages.ulb.ac.be/~odebeir/data/b5.png')"
   ]
  },
  {
   "cell_type": "markdown",
   "metadata": {},
   "source": [
    "Because the neighboorhood is not defined when one pixel of $B$ is outside the image, only the innerpart of the image can by processed by a structuring element."
   ]
  },
  {
   "cell_type": "code",
   "execution_count": null,
   "metadata": {},
   "outputs": [],
   "source": [
    "Image('http://homepages.ulb.ac.be/~odebeir/data/b6.png')"
   ]
  },
  {
   "cell_type": "markdown",
   "metadata": {},
   "source": [
    "## Local processing\n",
    "A first local process we can do using a structring element is a weighted sum of the pixels value inside the neighborhood.\n",
    "\n",
    "We associate, with each element of the structuring element, a weight.\n",
    "\n",
    "This is also known as the convolution of the image with the structuring element."
   ]
  },
  {
   "cell_type": "code",
   "execution_count": null,
   "metadata": {},
   "outputs": [],
   "source": [
    "Image('http://homepages.ulb.ac.be/~odebeir/data/conv1.png')"
   ]
  },
  {
   "cell_type": "markdown",
   "metadata": {},
   "source": [
    "Let's have a look on a real example ... the cameraman, we apply the mean filter which is basically the sum of the pixels inside the structuring element, divided by the number of pixels of the structuring element."
   ]
  },
  {
   "cell_type": "code",
   "execution_count": null,
   "metadata": {},
   "outputs": [],
   "source": [
    "from skimage.morphology import disk\n",
    "from skimage.data import camera\n",
    "from skimage.filters.rank import mean\n",
    "def compare(f,g,roi=None):\n",
    "    plt.figure(figsize=[10,10])\n",
    "    plt.subplot(1,2,1)\n",
    "    plt.imshow(f,cmap=plt.cm.gray)\n",
    "    plt.gca().invert_yaxis()\n",
    "    plt.subplot(1,2,2)\n",
    "    plt.imshow(g,cmap=plt.cm.gray)\n",
    "    plt.gca().invert_yaxis()\n",
    "    if roi is not None:\n",
    "        f = f[roi[0]:roi[1],roi[2]:roi[3]]\n",
    "        g = g[roi[0]:roi[1],roi[2]:roi[3]]\n",
    "        plt.figure(figsize=[10,10])\n",
    "        plt.subplot(1,2,1)\n",
    "        plt.imshow(f,cmap=plt.cm.gray)\n",
    "        plt.gca().invert_yaxis()\n",
    "        plt.subplot(1,2,2)\n",
    "        plt.imshow(g,cmap=plt.cm.gray)\n",
    "        plt.gca().invert_yaxis()\n",
    "g = camera()[-1:2:-1,::2]\n",
    "f = mean(g,disk(1))\n",
    "   \n",
    "compare(f,g,roi=[350,400,100,150])\n"
   ]
  },
  {
   "cell_type": "markdown",
   "metadata": {},
   "source": [
    "We observe that noise is smoothed and that small details can disappear. If we increase the radius of the structuring element we see how bigger borders are blurred."
   ]
  },
  {
   "cell_type": "code",
   "execution_count": null,
   "metadata": {},
   "outputs": [],
   "source": [
    "f = mean(g,disk(4))\n",
    "compare(f,g,roi=[350,400,100,150])"
   ]
  },
  {
   "cell_type": "markdown",
   "metadata": {},
   "source": [
    "On can implement the convolution algorithm using embedded loops for a structuring element 3x3:\n",
    "\n",
    "\n",
    "    I = [source image]\n",
    "    F = [destination image]\n",
    "    n  = 9\n",
    "    for x in 1:sizex-1:\n",
    "        for y in 1:sizey-1:\n",
    "            sum = 0\n",
    "            for i in -1:+1:\n",
    "                for j in -1:+1:\n",
    "                    sum += I[n+i,m+j]\n",
    "            F[n,m] = sum/n\n",
    "\n",
    "\n",
    "as the structuring element increases in size, the number of loops is increasing fast..."
   ]
  },
  {
   "cell_type": "markdown",
   "metadata": {},
   "source": [
    "Questions:\n",
    "\n",
    "* How the previous example returns a value for pixels close to the border ?\n",
    "* what should be the destination image type ?"
   ]
  },
  {
   "cell_type": "markdown",
   "metadata": {},
   "source": [
    "## Fourier transform\n",
    "### recall\n",
    "Fourier analysis allows to play with a signal in the frequency domain. \n",
    "\n",
    "In 1D signal, the continuous Fourier transform of a function $f(x)$ is given by:\n",
    "\n",
    "$$F(u)= \\mathcal{F(f(x))} = \\int_{-\\infty}^\\infty f(x)\\ e^{- i \\, 2\\pi \\, ux}\\,dx,$$\n",
    "\n",
    "$$ e^{- i \\, 2\\pi \\, ux} = \\cos(2\\pi\\, ux) - i\\,\\sin(2\\pi\\, ux)$$ \n",
    "\n",
    "the $u$ variable is in the frequency domain,\n",
    "\n",
    "in general, the Fourier transform of a real signal is complex, \n",
    "\n",
    "$$ F(u) = |F(u)|\\, e^{\\,i \\, \\phi(u)}$$\n",
    "\n",
    "with an amplitude:\n",
    "\n",
    "$$ |F(u)| = \\big[R²(u) + I²(u)\\big]^{1/2} $$\n",
    "\n",
    "and a phase:\n",
    "\n",
    "$$ \\phi(u) = \\tan^{-1} \\big(\\frac{I(u)}{R(u)}\\big)$$\n",
    "\n",
    "the inverse Fourier transform is given by:\n",
    "\n",
    "$$f(x) = \\mathcal{F}^{-1}(F(u)) =  \\int_{-\\infty}^\\infty F(u)\\ e^{ i \\, 2\\pi \\, ux}\\,du,$$\n",
    "\n",
    "the magnitude function $|F(u)|^2$ is called the Fourier spectrum  or power spectrum of $f(x)$.\n"
   ]
  },
  {
   "cell_type": "markdown",
   "metadata": {},
   "source": [
    "Power spectrum for several 1D step."
   ]
  },
  {
   "cell_type": "code",
   "execution_count": null,
   "metadata": {},
   "outputs": [],
   "source": [
    "import numpy as np\n",
    "from numpy.fft import fft,fftshift,ifftshift\n",
    "import matplotlib.pyplot as plt\n",
    "import matplotlib.cm as cm\n",
    "\n",
    "def step_power(length):\n",
    "    nsample = 100\n",
    "    t = np.arange(nsample)\n",
    "    x = t<=length\n",
    "    fx = fftshift(fft(x))\n",
    "    power = np.abs(fx)**2 \n",
    "    angle = np.angle(fx)\n",
    "    \n",
    "    plt.figure()\n",
    "    plt.subplot(1,2,1)\n",
    "    plt.gca().set_ylim([0,1.2])\n",
    "    plt.title('$f(x)$')\n",
    "    plt.plot(x)\n",
    "    plt.subplot(1,2,2)\n",
    "    plt.plot(np.arange(-nsample/2,nsample/2),power);\n",
    "    plt.title('$|F(u)|^2$')\n",
    "    \n",
    "step_power(1)\n",
    "step_power(4)\n",
    "step_power(50)"
   ]
  },
  {
   "cell_type": "markdown",
   "metadata": {},
   "source": [
    "Power spectrum of a sine waves for various wave length, the peak position in the Fourier power spectrum corresponds to the sine frequency."
   ]
  },
  {
   "cell_type": "code",
   "execution_count": null,
   "metadata": {},
   "outputs": [],
   "source": [
    "def sine_power(freq):\n",
    "    nsample = 100\n",
    "    t = np.linspace(-np.pi,np.pi,nsample)\n",
    "    x = np.sin(t*freq)\n",
    "    fx = fftshift(fft(x))\n",
    "    power = np.abs(fx)**2 \n",
    "    angle = np.angle(fx)\n",
    "    \n",
    "    plt.figure()\n",
    "    plt.subplot(1,2,1)\n",
    "    plt.gca().set_ylim([-1.1,1.1])\n",
    "    plt.title('$f(x)$')\n",
    "    plt.plot(x)\n",
    "    plt.subplot(1,2,2)\n",
    "    plt.plot(np.arange(-nsample/2,nsample/2),power);\n",
    "    plt.title('$|F(u)|^2$')\n",
    "    \n",
    "sine_power(1)\n",
    "sine_power(4)\n",
    "sine_power(10)"
   ]
  },
  {
   "cell_type": "markdown",
   "metadata": {},
   "source": [
    "Power spectrum of two differnt mixtures of three sine waves:"
   ]
  },
  {
   "cell_type": "code",
   "execution_count": null,
   "metadata": {},
   "outputs": [],
   "source": [
    "def mix_sine_power(freq):\n",
    "    nsample = 100\n",
    "    t = np.linspace(-np.pi,np.pi,nsample)\n",
    "    x = np.zeros_like(t)\n",
    "    for f,a in freq:\n",
    "        x += np.sin(t*f)*a\n",
    "    fx = fftshift(fft(x))\n",
    "    power = np.abs(fx)**2 \n",
    "    angle = np.angle(fx)\n",
    "    \n",
    "    plt.figure()\n",
    "    plt.subplot(1,2,1)\n",
    "    plt.gca().set_ylim([-1.1,1.1])\n",
    "    plt.plot(x)\n",
    "    plt.title('$f(x)$')\n",
    "    plt.subplot(1,2,2)\n",
    "    plt.plot(np.arange(-nsample/2,nsample/2),power);\n",
    "    plt.title('$|F(u)|^2$')\n",
    "    \n",
    "mix_sine_power([(1,.5),(4,.2),(10,.3)])\n",
    "mix_sine_power([(1,.5),(4,.3),(10,.2)])\n"
   ]
  },
  {
   "cell_type": "markdown",
   "metadata": {},
   "source": [
    "### 2D Fourier transform\n",
    "\n",
    "Similarily, 2D Fourier transform is defined as:\n",
    "\n",
    "$$F(u,v) = \\mathcal F(f(x,y)) =  \\int_{-\\infty}^\\infty \\int_{-\\infty}^\\infty f(x,y)\\, e^{- i \\, 2\\pi \\, (u x+v y)} dx \\, dy $$\n",
    "\n",
    "the equivallent step transform is given bellow:\n"
   ]
  },
  {
   "cell_type": "code",
   "execution_count": null,
   "metadata": {},
   "outputs": [],
   "source": [
    "import matplotlib.pyplot as plt\n",
    "import matplotlib.pylab as plab\n",
    "import matplotlib.cm as cm\n",
    "import scipy as scp\n",
    "import numpy as np\n",
    "from numpy.fft import fft2,ifft2,fftshift,ifftshift\n",
    "from scipy import ndimage\n",
    "from mpl_toolkits.mplot3d import axes3d\n",
    "\n",
    "w = 2\n",
    "n = 128\n",
    "r = np.zeros((n,n),dtype = np.complexfloating)\n",
    "r[int(n/2)-w:int(n/2)+w,int(n/2)-w:int(n/2)+w] = 1.0 + 0.0j\n",
    "\n",
    "F = fft2(r) #2D FFT of the image\n",
    "rr = ifft2(F) #2D inverse FFT of F \n",
    "\n",
    "real_part = F.real\n",
    "imag_part = F.imag\n",
    "\n",
    "fig = plt.figure(1)\n",
    "plt.imshow(r.real,interpolation='nearest',origin='lower',cmap=cm.gray)\n",
    "plt.colorbar()\n",
    "plt.title('$f(x,y)$');"
   ]
  },
  {
   "cell_type": "markdown",
   "metadata": {},
   "source": [
    "The original image consist of a 128x128 image containing zeros everywhere except in its center (a 2x2 square)."
   ]
  },
  {
   "cell_type": "code",
   "execution_count": null,
   "metadata": {},
   "outputs": [],
   "source": [
    "fig = plt.figure(2)\n",
    "plt.subplot(1,2,1)\n",
    "plt.imshow(fftshift(real_part),interpolation='nearest',origin='lower')\n",
    "plt.title('$\\mathcal{R} \\{ F(u,v)\\}$')\n",
    "\n",
    "plt.subplot(1,2,2)\n",
    "plt.imshow(fftshift(imag_part),interpolation='nearest',origin='lower')\n",
    "\n",
    "plt.title('$\\mathcal{I} \\{ F(u,v)\\}$')\n",
    "\n",
    "fig = plt.figure(3)\n",
    "plt.imshow(np.abs(fftshift(F))**2,interpolation='nearest',origin='lower')\n",
    "\n",
    "plt.title('$|F(u,v)|^2$');"
   ]
  },
  {
   "cell_type": "markdown",
   "metadata": {},
   "source": [
    "In the Fourier spectrum, the zero spatial frequency is in the center. We see that most of the energy is in the central part of th the spectrum (a great part of the image has no transition), however, because of the sharp border of the pixel we have also higher frequencies available, the figure below illustrates the $\\sin(x)/x$ aspect of the power spectrum of the 2D step function."
   ]
  },
  {
   "cell_type": "code",
   "execution_count": null,
   "metadata": {},
   "outputs": [],
   "source": [
    "fig = plt.figure(figsize=[10,10])\n",
    "ax = fig.gca(projection='3d')\n",
    "X,Y = np.meshgrid(range(n),range(n))\n",
    "Z = np.abs(fftshift(F))**2\n",
    "ax.plot_surface(X, Y, Z, rstride=8, cstride=8, alpha=0.3)\n",
    "cset = ax.contour(X, Y, Z, zdir='z', offset=-100, cmap=cm.coolwarm)\n",
    "cset = ax.contour(X, Y, Z, zdir='x', offset=-10, cmap=cm.coolwarm)\n",
    "cset = ax.contour(X, Y, Z, zdir='y', offset=140, cmap=cm.coolwarm)\n",
    "\n",
    "plt.xlabel('$u$')\n",
    "plt.ylabel('$v$')\n",
    "plt.title('$|F(u,v)|^2$');\n"
   ]
  },
  {
   "cell_type": "markdown",
   "metadata": {},
   "source": [
    "The inverse transform is illustrate below, this is the result of the FFT inverse transform of the previous transformed image. We get the original image back."
   ]
  },
  {
   "cell_type": "code",
   "execution_count": null,
   "metadata": {},
   "outputs": [],
   "source": [
    "fig = plt.figure()\n",
    "plt.imshow(rr.real,interpolation='nearest',origin='lower',cmap=cm.gray)\n",
    "plt.colorbar()\n",
    "plt.title('$\\mathcal{F}^{-1}(F(u,v))$');\n"
   ]
  },
  {
   "cell_type": "markdown",
   "metadata": {},
   "source": [
    "### Phase and amplitude\n",
    "\n",
    "What appends if we add noise to amplitude or to phase ?"
   ]
  },
  {
   "cell_type": "code",
   "execution_count": null,
   "metadata": {},
   "outputs": [],
   "source": [
    "ima = camera()[-1::-1,:]\n",
    "F = fft2(ima)\n",
    "amplitude = np.abs(F)\n",
    "angle = np.angle(F)\n",
    "\n",
    "noise = np.random.random(ima.shape)\n",
    "n_amplitude = amplitude * (1+10*noise)\n",
    "\n",
    "real = n_amplitude * np.cos(angle)\n",
    "imag = n_amplitude * np.sin(angle)\n",
    "\n",
    "n_F = real + 1j *imag\n",
    "\n",
    "n_ima = np.real(ifft2(n_F))\n",
    "\n",
    "fig = plt.figure(figsize=[10,5])\n",
    "plt.subplot(1,2,1)\n",
    "plt.imshow(ima,interpolation='nearest',origin='lower')\n",
    "plt.colorbar()\n",
    "\n",
    "plt.subplot(1,2,2)\n",
    "plt.imshow(n_ima,interpolation='nearest',origin='lower')\n",
    "plt.colorbar();\n",
    "plt.title('amplitude * (1+10*noise)');\n"
   ]
  },
  {
   "cell_type": "code",
   "execution_count": null,
   "metadata": {},
   "outputs": [],
   "source": [
    "ima = camera()[-1::-1,:]\n",
    "F = fft2(ima)\n",
    "amplitude = np.abs(F)\n",
    "angle = np.angle(F)\n",
    "\n",
    "noise = np.random.random(ima.shape)\n",
    "n_angle = angle * (1+.5*noise)\n",
    "\n",
    "\n",
    "real = amplitude * np.cos(n_angle)\n",
    "imag = amplitude * np.sin(n_angle)\n",
    "\n",
    "n_F = real + 1j *imag\n",
    "\n",
    "n_ima = np.real(ifft2(n_F))\n",
    "\n",
    "fig = plt.figure(figsize=[10,5])\n",
    "plt.subplot(1,2,1)\n",
    "plt.imshow(ima,interpolation='nearest',origin='lower')\n",
    "plt.colorbar()\n",
    "\n",
    "plt.subplot(1,2,2)\n",
    "plt.imshow(n_ima,interpolation='nearest',origin='lower')\n",
    "plt.colorbar();\n",
    "plt.title('angle * (1+.5*noise)');\n"
   ]
  },
  {
   "cell_type": "markdown",
   "metadata": {},
   "source": [
    "### Discrete Fourier transform\n",
    "\n",
    "This is the Fourier transform for discrete signals, if $f(x)$ is a discrete function with $N$ samples $x = 0,\\dots,N-1$.\n",
    "\n",
    "The discrete Fourier transform is given by:\n",
    "\n",
    "$$ F(u) = \\frac{1}{N} \\sum_{x=0}^{N-1}f(x) \\, e^{- i \\, 2\\pi \\, ux/N}$$\n",
    "\n",
    "and the corresponding inverse transform is:\n",
    "\n",
    "$$ f(x) = \\sum_{u=0}^{N-1}F(u) \\, e^{i \\, 2\\pi \\, ux/N}$$\n",
    "\n",
    "the 2D extension is :\n",
    "\n",
    "$$ F(u,v) = \\frac{1}{MN} \\sum_{x=0}^{M-1}\\sum_{y=0}^{N-1}f(x,y) \\, e^{- i \\, 2\\pi \\, (ux/M + vy/N)}$$\n",
    "\n",
    "$$ f(x,y) = \\sum_{u=0}^{M-1}\\sum_{v=0}^{N-1}F(u,v) \\, e^{i \\, 2\\pi \\, (ux/M + vy/N)}$$"
   ]
  },
  {
   "cell_type": "markdown",
   "metadata": {},
   "source": [
    "### The Fast Fourier Transform algorithm\n",
    "\n",
    "The FFT algorithm enable to drastically diminish the number of operation for the discrete Fourier transform of a function. Without going into details (see [DIP] p 120), the complexity of the original direct Fourier transform algorithm goes from $N^2$ to $N \\log_2 N$ for FFT method, which is a major improvement especially when image size $N$ is big.\n",
    "\n",
    "Because image are discrete functions, and because we are interested in doing convolution with them, if the size of the structuring element is big, one may use the FFT in place of naïve convolution techniques as described above. \n",
    "\n",
    "> The FFT algorithm changes the order of the coefficients, in order to have the 0 frequency back in the center of the image we use the `fftshift()` function."
   ]
  },
  {
   "cell_type": "markdown",
   "metadata": {},
   "source": [
    "## Convolution\n",
    "\n",
    "Local processing as described before is in fact a convolution, thanks to the nice properties of the Fourier domain, convolution can be computed in an other way.\n",
    "\n",
    "Convolution of two function is defined as:\n",
    "\n",
    "$$f(x)*g(x) = \\int _{-\\infty} ^{\\infty} f(u) g(x-u) du $$\n",
    "\n",
    "the corresponding operation in the frequency domain is:\n",
    "\n",
    "$$f(x)*g(x) \\Leftrightarrow F(u)G(u)$$\n",
    "\n",
    "in other word, the convolution in the signal space is equivallent to a term by term product in the frequency domain.\n",
    "\n",
    "Similarily for 2D images we have:\n",
    "\n",
    "$$f(x,y)*g(x,y) \\Leftrightarrow F(u,v)G(u,v)$$\n",
    "\n",
    "so the convolution of an image $f$ by a structuring element $g$ consist of two discrete Fourier transform, a simple term-by-term matrix product and an inverse discrete Fourier transform.\n",
    "\n",
    "The following example illustrate a low pass filter (only frequencies near the center of the image are kept)."
   ]
  },
  {
   "cell_type": "code",
   "execution_count": null,
   "metadata": {},
   "outputs": [],
   "source": [
    "from skimage.data import camera\n",
    "from skimage.filters import rank as skr\n",
    "from skimage.morphology import disk\n",
    "\n",
    "im = camera()[-1::-1,::]\n",
    "\n",
    "w,h = im.shape\n",
    "\n",
    "n = 32\n",
    "\n",
    "#square filter\n",
    "s = np.zeros(im.shape,dtype = np.complexfloating)\n",
    "s[int(w/2)-n:int(w/2)+n,int(h/2)-n:int(h/2)+n] = 1.0 + 0.0j\n",
    "\n",
    "#circular filter \n",
    "c = np.zeros(im.shape,dtype = np.complexfloating)\n",
    "for i in range(w):\n",
    "    for j in range(h):\n",
    "        if ((i-w/2)**2 + (j-h/2)**2)<(n*n):\n",
    "            c[i,j] = 1.0 + 0.0j\n",
    "            \n",
    "#smooth filter borders\n",
    "c = skr.mean(np.real(c*255).astype('uint8'),disk(10))\n",
    "c = c.astype(np.complexfloating)/(255.0+0j)\n",
    "\n",
    "F1 = fft2(im.astype(np.complexfloating))\n",
    "F3 = F1*ifftshift(s)\n",
    "F4 = F1*ifftshift(c)\n",
    "\n",
    "#high pass using the complement of c\n",
    "F5 = F1*ifftshift((1.0 + 0j)-c)\n",
    "\n",
    "psF1 = (F1**2).real\n",
    "\n",
    "low_pass_rec = ifft2(F3) \n",
    "low_pass_circ = ifft2(F4)\n",
    "high_pass_circ = ifft2(F5) \n",
    "\n",
    "fig = plt.figure(1)\n",
    "plt.imshow(np.abs(fftshift(psF1))**2,interpolation='nearest',origin='lower',vmax = 10e18)\n",
    "plt.title('$|F(u,v)|^2$')\n",
    "plt.colorbar()\n",
    "\n",
    "fig = plt.figure(2)\n",
    "plt.subplot(1,2,1)\n",
    "plt.imshow(s.real,interpolation='nearest',origin='lower')\n",
    "plt.title('$|G(u,v)|$')\n",
    "plt.subplot(1,2,2)\n",
    "plt.imshow(low_pass_rec.real,interpolation='nearest',origin='lower',cmap=cm.gray)\n",
    "plt.title('$g(x,y)*f(x,y)$');"
   ]
  },
  {
   "cell_type": "markdown",
   "metadata": {},
   "source": [
    "One remark the presence of oscillation in tje filtered image, this is due to the sharpness of the filter used, bellow the same low-pass filter but with smoother border."
   ]
  },
  {
   "cell_type": "code",
   "execution_count": null,
   "metadata": {},
   "outputs": [],
   "source": [
    "fig = plt.figure(3)\n",
    "plt.subplot(1,2,1)\n",
    "plt.imshow(c.real,interpolation='nearest',origin='lower')\n",
    "plt.title('$g(x,y)$')\n",
    "plt.subplot(1,2,2)\n",
    "plt.imshow(low_pass_circ.real,interpolation='nearest',origin='lower',cmap=cm.gray)\n",
    "plt.title('$g(x,y)*f(x,y)$');"
   ]
  },
  {
   "cell_type": "markdown",
   "metadata": {},
   "source": [
    "If we suppress the central part of the spectrum we obtain a high pass filter, i.e. only border are kept."
   ]
  },
  {
   "cell_type": "code",
   "execution_count": null,
   "metadata": {},
   "outputs": [],
   "source": [
    "fig = plt.figure(4)\n",
    "plt.subplot(1,2,1)\n",
    "plt.imshow(1.0-c.real,interpolation='nearest',origin='lower')\n",
    "plt.title('$g(x,y)')\n",
    "plt.subplot(1,2,2)\n",
    "plt.imshow(high_pass_circ.real,interpolation='nearest',origin='lower',cmap=cm.gray)\n",
    "plt.title('$g(x,y)*f(x,y)$');"
   ]
  },
  {
   "cell_type": "markdown",
   "metadata": {},
   "source": [
    "## Correlation\n",
    "\n",
    "Similarily, correlation can benefit from the Fourier domain properties.\n",
    "\n",
    "Correlation is defined as:\n",
    "\n",
    "$$ f(x)\\circ g(x) = \\int _{-\\infty} ^{\\infty} f^*(u) g(x+u) du$$\n",
    "\n",
    "where $f^*$ is the complex conjugate of $f$ (i.e. $f$ for real image).\n",
    "\n",
    "the corresponding operation in the frequency domain is:\n",
    "\n",
    "$$f(x)\\circ g(x) \\Leftrightarrow F^*(u)G(u)$$"
   ]
  },
  {
   "cell_type": "code",
   "execution_count": null,
   "metadata": {},
   "outputs": [],
   "source": [
    "from skimage.data import camera\n",
    "\n",
    "\n",
    "im = camera().astype(np.complexfloating)\n",
    "target_center = (314,375)\n",
    "w = 16\n",
    "crop = im[target_center[1]-w:target_center[1]+w,target_center[0]-w:target_center[0]+w]\n",
    "m,n = im.shape\n",
    "\n",
    "g = np.zeros((m,n),dtype = np.complexfloating)\n",
    "g[int(n/2)-w:int(n/2)+w,int(m/2)-w:int(m/2)+w] = crop - np.mean(im) + .0j\n",
    "\n",
    "#normalize\n",
    "f = im-np.mean(im)\n",
    "\n",
    "\n",
    "plt.figure(2)\n",
    "plt.imshow(g.real,interpolation='nearest',cmap=cm.gray)\n",
    "plt.colorbar()\n",
    "plt.title('$g(x,y)$');\n",
    "\n",
    "F = fft2(f)\n",
    "G = fft2(np.conjugate(g))\n",
    "\n",
    "R = F*G\n",
    "r = fftshift(np.real(ifft2(R)))\n",
    "\n",
    "corr = 255*((r-np.min(r))/(np.max(r)-np.min(r)))\n",
    "#corr = 255*(255*((r-np.min(r))/(np.max(r)-np.min(r)))>250)\n"
   ]
  },
  {
   "cell_type": "code",
   "execution_count": null,
   "metadata": {},
   "outputs": [],
   "source": [
    "compare(np.real(im[-1::-1,:]),np.real(corr[-1::-1,:]))"
   ]
  },
  {
   "cell_type": "markdown",
   "metadata": {
    "collapsed": true
   },
   "source": [
    "## Adapted filter\n",
    "\n"
   ]
  },
  {
   "cell_type": "code",
   "execution_count": null,
   "metadata": {},
   "outputs": [],
   "source": [
    "from skimage.io import imread\n",
    "im = imread('http://homepages.ulb.ac.be/~odebeir/data/moire1.png').astype(np.float)\n",
    "f = fft2(im)\n",
    "\n",
    "power = fftshift(np.abs(f)**2)\n",
    "pmax = np.max(power)\n",
    "\n",
    "plt.figure(figsize=[10,5])\n",
    "plt.subplot(1,2,1)\n",
    "plt.imshow(im,cmap = cm.gray)\n",
    "plt.title('$f(x,y)$');\n",
    "plt.subplot(1,2,2)\n",
    "plt.imshow(power,vmin=0,vmax=pmax/5000.);\n",
    "plt.title('$|F(u,v)|^2$');"
   ]
  },
  {
   "cell_type": "markdown",
   "metadata": {},
   "source": [
    "Question:\n",
    "* How to eliminate the repetitive raster pattern ?"
   ]
  },
  {
   "cell_type": "code",
   "execution_count": null,
   "metadata": {},
   "outputs": [],
   "source": []
  }
 ],
 "metadata": {
  "kernelspec": {
   "display_name": "Python 3",
   "language": "python",
   "name": "python3"
  },
  "language_info": {
   "codemirror_mode": {
    "name": "ipython",
    "version": 3
   },
   "file_extension": ".py",
   "mimetype": "text/x-python",
   "name": "python",
   "nbconvert_exporter": "python",
   "pygments_lexer": "ipython3",
   "version": "3.7.7"
  }
 },
 "nbformat": 4,
 "nbformat_minor": 1
}
