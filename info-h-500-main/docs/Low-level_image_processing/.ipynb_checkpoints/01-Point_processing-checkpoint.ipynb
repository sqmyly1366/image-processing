{
 "cells": [
  {
   "cell_type": "code",
   "execution_count": null,
   "metadata": {},
   "outputs": [],
   "source": [
    "%matplotlib inline\n",
    "\n",
    "from IPython.display import HTML,Image,SVG,YouTubeVideo\n"
   ]
  },
  {
   "cell_type": "markdown",
   "metadata": {},
   "source": [
    "# Histogram"
   ]
  },
  {
   "cell_type": "code",
   "execution_count": null,
   "metadata": {},
   "outputs": [],
   "source": [
    "import numpy as np\n",
    "import matplotlib.pyplot as plt\n",
    "from matplotlib import cm\n",
    "from skimage.data import camera,astronaut\n",
    "plt.style.use('ggplot')"
   ]
  },
  {
   "cell_type": "code",
   "execution_count": null,
   "metadata": {},
   "outputs": [],
   "source": [
    "def norm_hist(ima):\n",
    "    hist,bins = np.histogram(ima.flatten(),range(256))  # histogram is computed on a 1D distribution --> flatten()\n",
    "    return 1.*hist/np.sum(hist) # normalized histogram\n",
    "\n",
    "def display_hist(ima,vmin=None,vmax=None):\n",
    "    plt.figure(figsize=[10,5])\n",
    "    if ima.ndim == 2:\n",
    "        nh = norm_hist(ima)\n",
    "    else:\n",
    "        nh_r = norm_hist(ima[:,:,0])\n",
    "        nh_g = norm_hist(ima[:,:,1])\n",
    "        nh_b = norm_hist(ima[:,:,2])\n",
    "    # display the results\n",
    "    plt.subplot(1,2,1)\n",
    "    plt.imshow(ima,cmap=cm.gray,vmin=vmin,vmax=vmax)\n",
    "    plt.subplot(1,2,2)\n",
    "    if ima.ndim == 2:\n",
    "        plt.plot(nh,label='hist.')\n",
    "    else:\n",
    "        plt.plot(nh_r,color='r',label='r')\n",
    "        plt.plot(nh_g,color='g',label='g')\n",
    "        plt.plot(nh_b,color='b',label='b')\n",
    "    plt.legend()\n",
    "    plt.xlabel('gray level');\n",
    "    \n",
    "display_hist(camera())\n",
    "display_hist(astronaut())"
   ]
  },
  {
   "cell_type": "code",
   "execution_count": null,
   "metadata": {},
   "outputs": [],
   "source": [
    "def display_hist2(ima):\n",
    "    nh = norm_hist(ima)\n",
    "    cumul_hist = np.cumsum(nh)\n",
    "    \n",
    "    plt.figure(figsize=[10,5])\n",
    "    plt.subplot(1,2,1)\n",
    "    plt.imshow(ima,cmap=cm.gray)\n",
    "    ax1 = plt.subplot(1,2,2)\n",
    "    plt.plot(nh)\n",
    "    ax2 = ax1.twinx()\n",
    "    plt.plot(cumul_hist,label='cumul.',color='k')\n",
    "    plt.legend()\n",
    "    \n",
    "display_hist2(camera())"
   ]
  },
  {
   "cell_type": "markdown",
   "metadata": {},
   "source": [
    "# Look-Up-Table\n",
    "\n",
    "Example are given for 8-bits images but can of course be generalized for any kind of integer image, however, due to memory limitation, LUT method will be used only with bit-depth limited images."
   ]
  },
  {
   "cell_type": "code",
   "execution_count": null,
   "metadata": {},
   "outputs": [],
   "source": [
    "def apply_lut(ima,lut,vmin=None,vmax=None):\n",
    "    nh = norm_hist(ima)\n",
    "    lima = lut[ima]\n",
    "    nh_lima = norm_hist(lima)\n",
    "    \n",
    "    plt.figure(figsize=[10,5])\n",
    "    plt.subplot(1,2,1)\n",
    "    plt.imshow(lima,cmap=cm.gray,vmin=vmin,vmax=vmax)\n",
    "    ax1 = plt.subplot(1,2,2)\n",
    "    plt.plot(nh,label='ima')\n",
    "    plt.plot(nh_lima,label='lut[ima]')\n",
    "    plt.legend(loc='upper left')\n",
    "    ax2 = ax1.twinx()\n",
    "    plt.plot(lut,label='lut',color='k')\n",
    "    plt.legend()"
   ]
  },
  {
   "cell_type": "markdown",
   "metadata": {},
   "source": [
    "## Negative\n",
    "\n",
    "$$g_{out} = 255 - g_{in}$$\n",
    "\n",
    "To apply this inversion tp the complete image, one use the Look Up Table (LUT) method which consist in pre-computng the transformed levels for all the 255 possible gray level into one vector. Image transformation is then a simple vector addressing.\n",
    "\n",
    "<code>\n",
    "lut = np.arange(255,-1,-1)\n",
    "g_out = lut[g_in]\n",
    "</code>"
   ]
  },
  {
   "cell_type": "code",
   "execution_count": null,
   "metadata": {},
   "outputs": [],
   "source": [
    "# LUT invertion    \n",
    "ima = camera()\n",
    "lut = np.arange(255,-1,-1)\n",
    "apply_lut(ima,lut)"
   ]
  },
  {
   "cell_type": "markdown",
   "metadata": {},
   "source": [
    "## Threshold\n",
    "Look up table for a simple threshold is:\n",
    "\n",
    "$$g_{out} = \\begin{cases} 255, & \\mbox{if }g_{in}>th\\\\\n",
    "0, & \\mbox{otherwise}\\end{cases}$$\n"
   ]
  },
  {
   "cell_type": "code",
   "execution_count": null,
   "metadata": {},
   "outputs": [],
   "source": [
    "def lut_threshold(th):\n",
    "    lut = np.arange(0,256)\n",
    "    lut = 255 * (lut > th)\n",
    "    return lut \n",
    "\n",
    "apply_lut(ima,lut_threshold(128))\n"
   ]
  },
  {
   "cell_type": "markdown",
   "metadata": {},
   "source": [
    "## Semi-threshold\n",
    "Look up table for a simple threshold is:\n",
    "\n",
    "$$g_{out} = \\begin{cases} g_{in}, & \\mbox{if }g_{in}>th\\\\\n",
    "0, & \\mbox{otherwise}\\end{cases}$$\n"
   ]
  },
  {
   "cell_type": "code",
   "execution_count": null,
   "metadata": {},
   "outputs": [],
   "source": [
    "def lut_semi_threshold(th):\n",
    "    lut = np.arange(0,256)\n",
    "    lut[lut < th] = 0\n",
    "    return lut \n",
    "\n",
    "apply_lut(ima,lut_semi_threshold(128))\n"
   ]
  },
  {
   "cell_type": "markdown",
   "metadata": {},
   "source": [
    "## Gamma correction\n",
    "Gamma transform is used to reinforce contrast of the image, level trasform is given by:\n",
    "\n",
    "$$g_{out} = A \\: g_{in}^{\\gamma}$$ where $$ A = 255^{(1-\\gamma)}$$\n",
    "\n",
    "if $\\gamma < 1$ the low-level are contrasted, reversely if $\\gamma >1$ bright part of the image gains in contrast.\n"
   ]
  },
  {
   "cell_type": "code",
   "execution_count": null,
   "metadata": {},
   "outputs": [],
   "source": [
    "def lut_gamma(gamma):\n",
    "    lut = np.power(np.arange(0,256),gamma) * np.power(255,1-gamma)\n",
    "    return lut \n",
    "\n",
    "apply_lut(ima,lut_gamma(.3))\n",
    "apply_lut(ima,lut_gamma(1.7))\n"
   ]
  },
  {
   "cell_type": "markdown",
   "metadata": {},
   "source": [
    "## Auto-level\n",
    "Auto-level map the complete image dynamic to the full dynamic scale:\n",
    "\n",
    "$$g_{out} = 255 \\frac{g_{in} - g_{min}}{g_{max}-g_{min}}$$\n",
    "\n",
    "where $g_{min}$ and $g_{max}$ are respectively minimimal and maximal value present in the image."
   ]
  },
  {
   "cell_type": "code",
   "execution_count": null,
   "metadata": {},
   "outputs": [],
   "source": [
    "def lut_autolevel(ima):\n",
    "    g_min = np.min(ima)\n",
    "    g_max = np.max(ima)\n",
    "    lut = 255*(np.arange(0,256)-g_min)/(1.*g_max-g_min)\n",
    "    return lut\n",
    "\n",
    "ima=camera()\n",
    "t_ima = (ima/4+64).astype(np.uint8)\n",
    "display_hist(t_ima,vmin=0,vmax=255)\n",
    "apply_lut(t_ima,lut_autolevel(t_ima))"
   ]
  },
  {
   "cell_type": "markdown",
   "metadata": {},
   "source": [
    "## Equalization\n",
    "\n",
    "One may be interested in using as many gray levels possible for frequent levels, and in grouping rare levels. This is called histogram equalization since, after the operation, the histogram distribution is more equal.\n",
    "\n",
    "The next figure illustrate equalization done of the cameraman picture. "
   ]
  },
  {
   "cell_type": "code",
   "execution_count": null,
   "metadata": {},
   "outputs": [],
   "source": [
    "def lut_equalization(ima):\n",
    "    nh = norm_hist(ima)\n",
    "    ch = np.append(np.array(0),np.cumsum(nh))\n",
    "    lut = 255*ch\n",
    "    return lut\n",
    "apply_lut(ima,lut_equalization(ima))"
   ]
  },
  {
   "cell_type": "markdown",
   "metadata": {},
   "source": [
    "We can see that levels frequently observed (in the sky) are now more spread (more contrast is visible), the same inside the cameraman where details are now visible (hand).\n",
    "The histogram is not perctly equal, this is due to the technique used (the look up table), indeed pixel having an equal gray level are transform similarily, they cannot be separated.\n",
    "\n",
    "If we look to the code used to achieve the equalization, we see that we simply used, as look up table, the summed histogram !\n",
    "\n",
    "Here is the justification of that:\n",
    "\n",
    "* the gray level(arbitrarily set in $[0,1]$) probability is given by:\n",
    "\n",
    "$$p_r(r) = \\frac{n_r}{n}\\\\\n",
    "0 \\le r \\le 1\\\\\n",
    "$$\n",
    "\n",
    "where $n_r$ is the number of pixels having the value $r$ anf $n$ the total number of image pixels.\n",
    "\n",
    "* let's consider a transform $T$ that maps graylevels $r$ to graylevel $s$,\n",
    "$T(r)$ is considered as monotically increasing on $0 \\le r \\le 1$.\n",
    "\n",
    "$$\n",
    "s = T(r)\\\\\n",
    "0 \\le T(r) \\le 1\\\\\n",
    "r = T{-1}(s)\n",
    "$$\n",
    "\n",
    "We also assume that $T{-1}(s)$ is monotically increasing on $0 \\le s \\le 1$ and bounded to $[0,1]$.\n",
    "\n",
    "* from probability theory, the probability density function of the transformed gray level is:\n",
    "\n",
    "$$p_s(s) = \\Big[p_r(r)\\frac{dr}{ds}\\Big]_{r=T^{-1}(s)}$$\n",
    "\n",
    "* if we consider the following transform function:\n",
    "\n",
    "$$ s = T(r) = \\int _0 ^r p_r(w) dw \\qquad 0 \\le r \\le 1$$\n",
    "\n",
    "* then\n",
    "\n",
    "$$\\frac{ds}{dr} = p_r(r)$$\n",
    "\n",
    "* we can substitute this fraction in the previous equation:\n",
    "\n",
    "$$p_s(s) = \\Big[p_r(r)\\frac{1}{p_r(r)}\\Big]_{r=T^{-1}(s)} \\\\\n",
    "= \\Big[1\\Big]_{r=T^{-1}(s)} \\\\\n",
    "= 1 \\qquad 0 \\le s \\le 1\n",
    "$$\n",
    "\n",
    "which is uniform on the interval."
   ]
  },
  {
   "cell_type": "code",
   "execution_count": null,
   "metadata": {},
   "outputs": [],
   "source": [
    "#other example\n",
    "from skimage.io import imread\n",
    "ima = imread('http://homepages.ulb.ac.be/~odebeir/data/bones.png')\n",
    "lut = lut_equalization(ima)\n",
    "plt.figure()\n",
    "plt.imshow(ima,cmap=cm.gray)\n",
    "plt.figure()\n",
    "plt.imshow(lut[ima],cmap=cm.gray);\n",
    "\n"
   ]
  },
  {
   "cell_type": "markdown",
   "metadata": {},
   "source": [
    "\n",
    "if we need to increase the conrtrast in a certain part of the image, equalization LUT may be restricted to a certain area:"
   ]
  },
  {
   "cell_type": "code",
   "execution_count": null,
   "metadata": {},
   "outputs": [],
   "source": [
    "roi = [(100,150),100,50]\n",
    "sample = ima[roi[0][1]:roi[0][1]+roi[2],roi[0][0]:roi[0][0]+roi[1]]\n",
    "lut = lut_equalization(sample)\n",
    "\n",
    "plt.figure()\n",
    "plt.imshow(ima,cmap=cm.gray)\n",
    "rect = plt.Rectangle(*roi, facecolor=None,alpha=.25)\n",
    "plt.gca().add_patch(rect)\n",
    "\n",
    "\n",
    "plt.figure()\n",
    "plt.imshow(lut[ima],cmap=cm.gray);\n",
    "rect = plt.Rectangle(*roi, facecolor=None,alpha=.25)\n",
    "\n",
    "plt.gca().add_patch(rect);\n",
    "\n"
   ]
  },
  {
   "cell_type": "markdown",
   "metadata": {},
   "source": [
    ">see also:\n",
    "* histogram based methods [IPAMV](../00-Preface/06-References.ipynb#[IPAMV]) pp58-61"
   ]
  },
  {
   "cell_type": "code",
   "execution_count": null,
   "metadata": {},
   "outputs": [],
   "source": []
  }
 ],
 "metadata": {
  "kernelspec": {
   "display_name": "Python 3",
   "language": "python",
   "name": "python3"
  },
  "language_info": {
   "codemirror_mode": {
    "name": "ipython",
    "version": 3
   },
   "file_extension": ".py",
   "mimetype": "text/x-python",
   "name": "python",
   "nbconvert_exporter": "python",
   "pygments_lexer": "ipython3",
   "version": "3.7.7"
  }
 },
 "nbformat": 4,
 "nbformat_minor": 1
}
