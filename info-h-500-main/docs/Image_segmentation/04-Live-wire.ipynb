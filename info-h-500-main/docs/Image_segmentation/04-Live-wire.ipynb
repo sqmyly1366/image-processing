{
 "cells": [
  {
   "cell_type": "code",
   "execution_count": null,
   "metadata": {},
   "outputs": [],
   "source": [
    "%matplotlib inline  \n",
    "from IPython.display import HTML,Image,SVG,YouTubeVideo\n"
   ]
  },
  {
   "cell_type": "markdown",
   "metadata": {},
   "source": [
    "# Model based segmentation\n",
    "\n",
    "As far, we considered the image segmentation as a bottom-up process, where connected pixels are grouped together based on some sort of rule based on gray levels, borders etc.\n",
    "\n",
    "In some cases, one know *a priori* the object we are looking for.\n",
    "\n",
    "An example was already given when looking for lines and circles using the Hough transform.\n",
    "\n",
    "We will see in this chapter other method using this top-down approach."
   ]
  },
  {
   "cell_type": "markdown",
   "metadata": {},
   "source": [
    "## Live-wire\n",
    "\n",
    "The live-wire algorithm is an interactive segmentation method that helps the user to delineate object borders in an image. The user select some points located near the object boundary and the algorithm connect them using a best path strategy.\n",
    "\n",
    "> Barrett, W a, and E N Mortensen. 1997. “Interactive live-wire boundary\n",
    "extraction.” Medical image analysis 1(4):331-41."
   ]
  },
  {
   "cell_type": "code",
   "execution_count": null,
   "metadata": {},
   "outputs": [],
   "source": [
    "Image('../data/lifewire.png')"
   ]
  },
  {
   "cell_type": "markdown",
   "metadata": {},
   "source": [
    "“intelligent scissors”"
   ]
  },
  {
   "cell_type": "code",
   "execution_count": null,
   "metadata": {},
   "outputs": [],
   "source": [
    "Image('../data/lw1.png')"
   ]
  },
  {
   "cell_type": "code",
   "execution_count": null,
   "metadata": {},
   "outputs": [],
   "source": [
    "Image('../data/lw2.png')"
   ]
  },
  {
   "cell_type": "markdown",
   "metadata": {},
   "source": [
    "Principe:\n",
    "    \n",
    "* user places seed points on the object/structure edge\n",
    "* program compute locally the best path between these points\n",
    "* should be fast enough to propose an interactive optimal path\n",
    "* similar to the shortest problem, which is : d-finding the minimum cost path between one seed and all the possible image points\n",
    "\n",
    "Move from one pixel to one of its neighbours\n",
    "\n",
    "* graph = image latice\n",
    "* search space = every pixel of the image\n",
    "* Cost\n",
    "* local (related to the edge detection etc. )\n",
    "* euclidian distance from previous position\n",
    "\n",
    "Local costs between points p and q\n",
    "\n",
    "* Laplacian zero crossing, fZ,\n",
    "* gradient magnitude,fG,\n",
    "* and gradient direction, fD\n",
    "\n",
    "$l(\\bf p,bf q) = \\omega_G . f_G(\\bf q)+\\omega_Z . f_Z(\\bf q)+\\omega_D . f_G(\\bf p,\\bf q)$\n",
    "\n",
    "gradient magnitude, $f_G$: \n",
    "\n",
    "$f_G = 1 - \\frac{G}{max(G)}$\n",
    "\n",
    "Laplacian zero crossing, $f_Z$,\n",
    "\n",
    "1 if sign change in the neighbourhood \n",
    "\n",
    "a ‘good’ pixel to place a border\n",
    "\n",
    "gradient direction, $f_D$\n",
    "\n",
    "$f_D(\\bf p,\\bf q) = \\frac{2}{3\\pi}\\{[\\cos(d_p(\\bf p,\\bf q))]^{-1}+[\\cos(d_p(\\bf p,\\bf q))]^{-1}\\}$\n",
    "\n",
    "$\\bf D(p)$ be the unit vector which is normal to the gradient direction at point\n",
    "\n",
    "\\bf D(p) = (G_y(\\bf p),-G_x(\\bf p))\n",
    "\n",
    "where\n",
    "\n",
    "are vector dot product and\n",
    "\n",
    "$ d_p(\\bf p,\\bf q) = \\bf D(\\bf p) . L(\\bf p,\\bf q) $\n",
    "\n",
    "$ d_a(\\bf p,\\bf q) = L(\\bf p,\\bf q) . \\bf D(\\bf q) $\n",
    "\n",
    "$L(\\bf p, \\bf q)=\\left \\{\\begin{array}{ll}\n",
    "\\bf q - \\bf p,\\quad \\text{if} \\quad  D(\\bf p).(\\bf q-\\bf p) \\ge 0\\\\\n",
    "\\bf p - \\bf q,\\quad \\text{if} \\quad  D(\\bf p).(\\bf q-\\bf p) < 0\\\\\n",
    "\\end{array}\n",
    "\\right.$\n",
    "\n",
    "The direction feature cost is low when the gradient direction of the two pixels are similar to each other and the link between them.\n",
    "\n",
    "pros\n",
    "\n",
    "* general, few initialization\n",
    "* real-time\n",
    "* direct control\n",
    "\n",
    "cons\n",
    "\n",
    "* resolution = pixel (> subpixel)\n",
    "* contour depend on weight\n",
    "* slow for 3D and high resolution\n"
   ]
  },
  {
   "cell_type": "markdown",
   "metadata": {},
   "source": [
    "### Dijkstra shortest path algorithm"
   ]
  },
  {
   "cell_type": "code",
   "execution_count": null,
   "metadata": {},
   "outputs": [],
   "source": [
    "from IPython.lib.display import YouTubeVideo\n",
    "YouTubeVideo('8Ls1RqHCOPw')"
   ]
  },
  {
   "cell_type": "code",
   "execution_count": null,
   "metadata": {},
   "outputs": [],
   "source": []
  }
 ],
 "metadata": {
  "kernelspec": {
   "display_name": "Python 3",
   "language": "python",
   "name": "python3"
  },
  "language_info": {
   "codemirror_mode": {
    "name": "ipython",
    "version": 3
   },
   "file_extension": ".py",
   "mimetype": "text/x-python",
   "name": "python",
   "nbconvert_exporter": "python",
   "pygments_lexer": "ipython3",
   "version": "3.7.7"
  }
 },
 "nbformat": 4,
 "nbformat_minor": 1
}
