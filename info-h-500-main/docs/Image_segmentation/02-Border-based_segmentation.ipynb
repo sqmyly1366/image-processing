{
 "cells": [
  {
   "cell_type": "code",
   "execution_count": null,
   "metadata": {},
   "outputs": [],
   "source": [
    "%matplotlib inline\n",
    "from IPython.display import HTML,Image,SVG,YouTubeVideo\n"
   ]
  },
  {
   "cell_type": "markdown",
   "metadata": {},
   "source": [
    "# Border based segmentation\n",
    "We have seen that berder detection can be achieved by various filters, e.g. by convolution (linear filters) or by non linear filters such as morphological gradient.\n",
    "\n",
    "The results of these filters is an image where pixels located near abrupt gray level changes have a high intensity whereas pixels located in more contiuous regions share a low value.\n",
    "\n",
    "Here below, the result of a Sobel filter on the an image whith clearly identifiable objects:"
   ]
  },
  {
   "cell_type": "code",
   "execution_count": null,
   "metadata": {},
   "outputs": [],
   "source": [
    "def norm_hist(ima):\n",
    "    hist,bins = np.histogram(ima.flatten(),range(256))  # histogram is computed on a 1D distribution --> flatten()\n",
    "    return 1.*hist/np.sum(hist) # normalized histogram\n",
    "\n",
    "def display_hist(ima):\n",
    "    plt.figure(figsize=[10,5])\n",
    "    if ima.ndim == 2:\n",
    "        nh = norm_hist(ima)\n",
    "    else:\n",
    "        nh_r = norm_hist(ima[:,:,0])\n",
    "        nh_g = norm_hist(ima[:,:,1])\n",
    "        nh_b = norm_hist(ima[:,:,2])\n",
    "    # display the results\n",
    "    plt.subplot(1,2,1)\n",
    "    plt.imshow(ima,cmap=plt.cm.gray)\n",
    "    plt.subplot(1,2,2)\n",
    "    if ima.ndim == 2:\n",
    "        plt.plot(nh,label='hist.')\n",
    "    else:\n",
    "        plt.plot(nh_r,color='r',label='r')\n",
    "        plt.plot(nh_g,color='g',label='g')\n",
    "        plt.plot(nh_b,color='b',label='b')\n",
    "    plt.legend()\n",
    "    plt.xlabel('gray level');"
   ]
  },
  {
   "cell_type": "code",
   "execution_count": null,
   "metadata": {},
   "outputs": [],
   "source": [
    "from skimage.data import camera,coins\n",
    "from skimage.filters import sobel\n",
    "import matplotlib.pyplot as plt\n",
    "import numpy as np\n",
    "\n",
    "im = coins().astype(np.float)\n",
    "plt.imshow(im,cmap=plt.cm.gray);"
   ]
  },
  {
   "cell_type": "code",
   "execution_count": null,
   "metadata": {},
   "outputs": [],
   "source": [
    "fsobel = sobel(im) \n",
    "norm = 255*fsobel/np.max(fsobel)\n",
    "\n",
    "display_hist(norm)"
   ]
  },
  {
   "cell_type": "markdown",
   "metadata": {},
   "source": [
    "In order to separate object one can consider only very sharp borders, e.g. with $sobel>50$. "
   ]
  },
  {
   "cell_type": "code",
   "execution_count": null,
   "metadata": {},
   "outputs": [],
   "source": [
    "\n",
    "borders = 255*(norm>50)\n",
    "plt.imshow(borders,cmap=plt.cm.gray);\n"
   ]
  },
  {
   "cell_type": "code",
   "execution_count": null,
   "metadata": {},
   "outputs": [],
   "source": [
    "import skimage.filters.rank as skr\n",
    "from skimage.morphology import disk\n",
    "\n",
    "fim = skr.median(im.astype(np.uint8),disk(7))\n",
    "fsobel = sobel(fim) \n",
    "norm = 255*fsobel/np.max(fsobel)\n",
    "\n",
    "plt.imshow(norm>30,cmap=plt.cm.gray);\n"
   ]
  },
  {
   "cell_type": "markdown",
   "metadata": {},
   "source": [
    "looking carefully to the obtained borders, we see that, depending on the threshold level choosen, some borders may be disconnected."
   ]
  },
  {
   "cell_type": "markdown",
   "metadata": {},
   "source": [
    "Questions:\n",
    "* do you know a better edge detection that maybe help to solve this problem ?"
   ]
  },
  {
   "cell_type": "code",
   "execution_count": null,
   "metadata": {},
   "outputs": [],
   "source": []
  }
 ],
 "metadata": {
  "kernelspec": {
   "display_name": "Python 3",
   "language": "python",
   "name": "python3"
  },
  "language_info": {
   "codemirror_mode": {
    "name": "ipython",
    "version": 3
   },
   "file_extension": ".py",
   "mimetype": "text/x-python",
   "name": "python",
   "nbconvert_exporter": "python",
   "pygments_lexer": "ipython3",
   "version": "3.7.7"
  }
 },
 "nbformat": 4,
 "nbformat_minor": 1
}
