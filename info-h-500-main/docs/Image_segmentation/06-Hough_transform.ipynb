{
 "cells": [
  {
   "cell_type": "code",
   "execution_count": null,
   "metadata": {},
   "outputs": [],
   "source": [
    "%matplotlib inline\n",
    "from IPython.display import HTML,Image,SVG,YouTubeVideo\n"
   ]
  },
  {
   "cell_type": "markdown",
   "metadata": {},
   "source": [
    "## Hough transform\n",
    "\n",
    "One typical task in image processing is the detection of specific features such as lines. Lines are often present in images of man made structures. In the following image, some lines are continuous (red, green, blue) other are discontinuous (orange) but are made of aligned segments.\n",
    "\n",
    "Instead of trying to connect touching point that may be on the same line, as one would do with a classical edge detection techniques, Hough transform is grouping pixels that belong to a same line even if line is segmented."
   ]
  },
  {
   "cell_type": "code",
   "execution_count": null,
   "metadata": {},
   "outputs": [],
   "source": [
    "Image('../data/hough3.png')"
   ]
  },
  {
   "cell_type": "markdown",
   "metadata": {},
   "source": [
    "<sup>based on [wikimedia commons](htatps://commons.wikimedia.org/wiki/File:Garfield_Building_Detroit.jpg)"
   ]
  },
  {
   "cell_type": "markdown",
   "metadata": {},
   "source": [
    "Consider the 2D line $PQ$, this line can be expressed as:\n",
    "\n",
    "$$y = ax+b$$\n",
    "\n",
    "with $a$ and $b$ such tath this equation is satified both for $(x_0,y_0)$ and $(x_1,y_1)$.\n",
    "\n",
    "All the point of the image located on the line will statisfy this equation.\n",
    "\n",
    "We can use the normal line representation:\n",
    "\n",
    "$$x \\cos(\\theta) + y \\sin(\\theta) = \\rho$$\n",
    "\n",
    "with $\\theta$ the angle to the origin ot the normal to the line and $\\rho$ its distance to the origin, so a line is defined by its two parameters $(\\theta,\\rho)$."
   ]
  },
  {
   "cell_type": "code",
   "execution_count": null,
   "metadata": {},
   "outputs": [],
   "source": [
    "Image('../data/hough1.png')"
   ]
  },
  {
   "cell_type": "markdown",
   "metadata": {},
   "source": [
    "The point $P$ will also belong to the red line that is defined by two others $(\\theta_r,\\rho_r)$ parameters, ..., infact, $P$ belong to an infinity of lines such that:\n",
    "\n",
    "$$x_0 \\cos(\\theta) + y_0 \\sin(\\theta) = \\rho$$\n",
    "\n",
    "is statisfied. For a point $P$ with $x_0= 0$ the set of parameters for lines passing trough P is given by:\n",
    "$$\\rho = y_0 \\sin(\\theta)$$\n",
    "\n",
    "as illustrated below, be carrefull, the axis are now the *parameters space* $(\\theta,\\rho)$\n"
   ]
  },
  {
   "cell_type": "code",
   "execution_count": null,
   "metadata": {},
   "outputs": [],
   "source": [
    "Image('../data/hough4.png')\n"
   ]
  },
  {
   "cell_type": "markdown",
   "metadata": {},
   "source": [
    "For **each point** in the image space, one can build **one sinusoid** in the parameter space (a weighted combinaison of a sine and a cosine).\n",
    "\n",
    "If we draw one sinusoid for each point of the $PQ$ line, we get:"
   ]
  },
  {
   "cell_type": "code",
   "execution_count": null,
   "metadata": {},
   "outputs": [],
   "source": [
    "Image('../data/hough5.png')"
   ]
  },
  {
   "cell_type": "markdown",
   "metadata": {},
   "source": [
    "all the  curves are crossing at the same point in the parameters space $(\\theta_0,\\rho_0)$ which correspond to the parameters of the $PQ$ line.\n",
    "\n",
    "We have now a method to detect all the straight lines in an image.\n",
    "\n",
    "* we detect good candidates pixels, i.e. borders\n",
    "* for each pixel of these borders we add a sinusoid in a discretized $(\\theta,\\rho)$ parameters space\n",
    "* lines parameters are position in the parameters space where the count is high"
   ]
  },
  {
   "cell_type": "code",
   "execution_count": null,
   "metadata": {},
   "outputs": [],
   "source": [
    "#example from http://scikit-image.org/docs/dev/auto_examples/plot_line_hough_transform.html\n",
    "from skimage.transform import hough_line, hough_line_peaks\n",
    "from skimage.feature import canny\n",
    "\n",
    "import numpy as np\n",
    "import matplotlib.pyplot as plt\n",
    "\n",
    "# Construct test image\n",
    "\n",
    "image = np.zeros((100, 100))\n",
    "\n",
    "# Classic straight-line Hough transform\n",
    "\n",
    "idx = np.arange(25, 75)\n",
    "image[idx[::-1], idx] = 255\n",
    "image[idx, idx] = 255\n",
    "\n",
    "h, theta, d = hough_line(image)\n",
    "\n",
    "fig, ax = plt.subplots(1, 3, figsize=(8, 4))\n",
    "\n",
    "ax[0].imshow(image, cmap=plt.cm.gray)\n",
    "ax[0].set_title('Input image')\n",
    "ax[0].axis('image')\n",
    "\n",
    "ax[1].imshow(np.log(1 + h),\n",
    "           extent=[np.rad2deg(theta[-1]), np.rad2deg(theta[0]),\n",
    "                   d[-1], d[0]],\n",
    "           cmap=plt.cm.gray, aspect=1/1.5)\n",
    "ax[1].set_title('Hough transform')\n",
    "ax[1].set_xlabel('Angles (degrees)')\n",
    "ax[1].set_ylabel('Distance (pixels)')\n",
    "ax[1].axis('image')\n",
    "\n",
    "ax[2].imshow(image, cmap=plt.cm.gray)\n",
    "rows, cols = image.shape\n",
    "for _, angle, dist in zip(*hough_line_peaks(h, theta, d)):\n",
    "    y0 = (dist - 0 * np.cos(angle)) / np.sin(angle)\n",
    "    y1 = (dist - cols * np.cos(angle)) / np.sin(angle)\n",
    "    ax[2].plot((0, cols), (y0, y1), '-r')\n",
    "ax[2].axis((0, cols, rows, 0))\n",
    "ax[2].set_title('Detected lines')\n",
    "ax[2].axis('image');\n"
   ]
  },
  {
   "cell_type": "code",
   "execution_count": null,
   "metadata": {},
   "outputs": [],
   "source": [
    "from skimage.io import imread\n",
    "\n",
    "rgb = imread('https://upload.wikimedia.org/wikipedia/commons/thumb/0/04/Garfield_Building_Detroit.jpg/320px-Garfield_Building_Detroit.jpg')\n",
    "g = rgb[:,:,0]\n",
    "ima = canny(g)\n",
    "\n",
    "h, theta, d = hough_line(ima)\n",
    "\n",
    "peaks = zip(*hough_line_peaks(h, theta, d))\n",
    "\n",
    "plt.figure(figsize=[10,5])\n",
    "plt.subplot(1,2,1)\n",
    "plt.imshow(g,cmap=plt.cm.gray)\n",
    "plt.subplot(1,2,2)\n",
    "plt.imshow(ima,cmap=plt.cm.gray)\n",
    "\n",
    "plt.figure(figsize=[18,8])\n",
    "plt.imshow(np.log(1 + h),extent=[np.rad2deg(theta[-1]), np.rad2deg(theta[0]),\n",
    "                   d[-1], d[0]])\n",
    "plt.colorbar()\n",
    "for _, angle, dist in peaks:\n",
    "    plt.plot(np.rad2deg(-angle),dist,'o')\n",
    "    \n",
    "plt.figure(figsize=[10,5])\n",
    "plt.imshow(g, cmap=plt.cm.gray)\n",
    "rows, cols = g.shape\n",
    "\n",
    "peaks = zip(*hough_line_peaks(h, theta, d))\n",
    "\n",
    "for _, angle, dist in peaks:\n",
    "    y0 = (dist - 0 * np.cos(angle)) / np.sin(angle)\n",
    "    y1 = (dist - cols * np.cos(angle)) / np.sin(angle)\n",
    "    plt.plot((0, cols), (y0, y1), '-')\n",
    "plt.title('Detected lines')\n",
    "plt.gca().set_xlim([0,cols])\n",
    "plt.gca().set_ylim([rows,0])"
   ]
  },
  {
   "cell_type": "markdown",
   "metadata": {},
   "source": [
    "Hough transform is also used to detect other primitives, such as cicles:\n",
    "\n",
    "$$(x-x_c)^2+(y-y_c)^2 = R^2 \\qquad , (x_c,y_c,R)$$\n",
    "\n",
    "if the radius is known:\n",
    "\n",
    "$$(x-x_c)^2+(y-y_c)^2 = R_0^2 \\qquad , (x_c,y_c)$$\n",
    "\n",
    "Hough transform is limited by the nulber of dimensions of the feature space, and in resolution since the feature space is discretized.\n",
    "\n",
    "Example of application of the Hough transform for the line mark detection on a road."
   ]
  },
  {
   "cell_type": "code",
   "execution_count": null,
   "metadata": {},
   "outputs": [],
   "source": [
    "Image('../data/hough_ex.png')"
   ]
  },
  {
   "cell_type": "markdown",
   "metadata": {},
   "source": [
    ">see also:\n",
    "* Hough transform [DIP](../00-Preface/06-References.ipynb#[DIP]) p432"
   ]
  },
  {
   "cell_type": "code",
   "execution_count": null,
   "metadata": {},
   "outputs": [],
   "source": []
  }
 ],
 "metadata": {
  "kernelspec": {
   "display_name": "Python 3",
   "language": "python",
   "name": "python3"
  },
  "language_info": {
   "codemirror_mode": {
    "name": "ipython",
    "version": 3
   },
   "file_extension": ".py",
   "mimetype": "text/x-python",
   "name": "python",
   "nbconvert_exporter": "python",
   "pygments_lexer": "ipython3",
   "version": "3.7.7"
  }
 },
 "nbformat": 4,
 "nbformat_minor": 1
}
