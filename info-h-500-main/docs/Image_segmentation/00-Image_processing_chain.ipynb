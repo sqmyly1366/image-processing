{
 "cells": [
  {
   "cell_type": "code",
   "execution_count": null,
   "metadata": {},
   "outputs": [],
   "source": [
    "%matplotlib inline\n",
    "from IPython.display import HTML,Image,SVG,YouTubeVideo\n"
   ]
  },
  {
   "cell_type": "markdown",
   "metadata": {},
   "source": [
    "# Typical image processing pipelines"
   ]
  },
  {
   "cell_type": "code",
   "execution_count": null,
   "metadata": {},
   "outputs": [],
   "source": [
    "Image('../data/ip_chain.png')"
   ]
  },
  {
   "cell_type": "markdown",
   "metadata": {},
   "source": [
    "The classical image processing chain is illstrated above, we can identify the 4 major steps:\n",
    "\n",
    "* **image acquisition**, when photon are converted into a matrix of numbers\n",
    "* **pre-processing**, used to correct image acquisition default or enhance image quality in order to facilitate...\n",
    "* the **segmentation**, that split image into object of interest and background, then each object of interest are described by,\n",
    "* **feature extraction**, that describe shape, color, texture, etc \n",
    "\n",
    "of course, other approaches exist, depending on the image processing task and the difficulty of it.\n"
   ]
  },
  {
   "cell_type": "markdown",
   "metadata": {},
   "source": [
    "## Image segmentation\n",
    "\n",
    "Segmentation is an important step in image understanding, it aims to divide an image into \"objects\" i.e. connected pixels that share some semantic content. It is an ill-posed problem because often the image is the result of a 3D to 2D projection, it means that an object well identified in the 3D space can be impossible to identify without ambiguity.\n",
    "\n",
    "Segmentation result is a disjoint set of regions. Here we will talk about object and background.\n",
    "\n",
    "$$ \\bigcup_{i=1}^{N} R_i = I$$\n",
    "\n",
    "$$ R_i \\cap R_j = \\phi \\:,\\: 1 \\leq i,j \\leq N, i\\neq j  $$\n",
    "\n",
    "Since segmentation tackles the identification of semantic content, it often requires low level AND high-level approaches.\n",
    "\n",
    "The low-level approach or bottom-up approach considers the segmentation as an aggregation of pixels based on some common features. For example, pixles can share a common intensity, a common color, texture, or be \"contained\" inside some \"border\".\n",
    "\n",
    "The high-level approach or top-down approach tries to identify object starting from the complete image, knowing a priori what to look for. For example, detecting the position of a face inside the image to help camera auto-focus.\n",
    "\n",
    "Human vision is a combination of both mechanisms, retina send the signal from the sensor to the brain, grouping neighbours cones and rods to detect patterns such as borders, isolated points etc, but at the same time the brain suggest objects that could be seen and that helps the detection. \n",
    "\n",
    "The segmentation can be a very complex problem, and many methods have been proposed. We will see in the following sections some of the more common ones, this is far from being exhaustive, this topic remains an open issue.\n",
    "\n",
    "The following approaches will be illustrated:\n",
    "* the histogram based segmentation\n",
    "* the border based segmentation\n",
    "* the region based segmentation \n",
    "* one model based object detection \n",
    "* one model based object segmentation"
   ]
  },
  {
   "cell_type": "markdown",
   "metadata": {},
   "source": [
    "# Other approaches\n",
    "\n",
    "Sometime the object of interest is more easy to detect than to segment, the image processing chain becomes:\n",
    " \n",
    " "
   ]
  },
  {
   "cell_type": "code",
   "execution_count": null,
   "metadata": {},
   "outputs": [],
   "source": [
    "Image('../data/ip_chain2.png')"
   ]
  },
  {
   "cell_type": "code",
   "execution_count": null,
   "metadata": {},
   "outputs": [],
   "source": []
  },
  {
   "cell_type": "code",
   "execution_count": null,
   "metadata": {},
   "outputs": [],
   "source": []
  }
 ],
 "metadata": {
  "kernelspec": {
   "display_name": "Python 3",
   "language": "python",
   "name": "python3"
  },
  "language_info": {
   "codemirror_mode": {
    "name": "ipython",
    "version": 3
   },
   "file_extension": ".py",
   "mimetype": "text/x-python",
   "name": "python",
   "nbconvert_exporter": "python",
   "pygments_lexer": "ipython3",
   "version": "3.7.7"
  }
 },
 "nbformat": 4,
 "nbformat_minor": 1
}
