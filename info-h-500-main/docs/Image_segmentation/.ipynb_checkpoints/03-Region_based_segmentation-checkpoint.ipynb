{
 "cells": [
  {
   "cell_type": "code",
   "execution_count": null,
   "metadata": {},
   "outputs": [],
   "source": [
    "%matplotlib inline\n",
    "from IPython.display import HTML,Image,SVG,YouTubeVideo\n"
   ]
  },
  {
   "cell_type": "markdown",
   "metadata": {},
   "source": [
    "# Region based segmentation\n",
    "\n",
    "Because edge based segmentation leave contours not closed, one may be interested in searching for regions."
   ]
  },
  {
   "cell_type": "markdown",
   "metadata": {},
   "source": [
    "## Region growing\n",
    "\n",
    "Starting from one point of the “object” region and recruiting neighbouring pixels."
   ]
  },
  {
   "cell_type": "markdown",
   "metadata": {},
   "source": [
    "## Split and merge"
   ]
  },
  {
   "cell_type": "code",
   "execution_count": null,
   "metadata": {},
   "outputs": [],
   "source": [
    "Image('../data/quadtree.png')"
   ]
  },
  {
   "cell_type": "markdown",
   "metadata": {},
   "source": [
    "### split phase\n",
    "one define an homogeneity function\n",
    "\n",
    "recursive image split:\n",
    "* if image is homogeneous \n",
    "    * return\n",
    "* else\n",
    "    * split the image into 4 and apply the test on each sub-image\n",
    "\n",
    "### merge phase\n",
    "\n",
    "* for each adjacent sub-image\n",
    "    * if the two grouped regions satisfies the homogeneity criterion, merge the regions"
   ]
  },
  {
   "cell_type": "code",
   "execution_count": null,
   "metadata": {},
   "outputs": [],
   "source": [
    "Image('../data/split_example.png')"
   ]
  },
  {
   "cell_type": "markdown",
   "metadata": {
    "collapsed": true
   },
   "source": [
    ">see also:\n",
    "* Split and merge [DIP](../00-Preface/06-References.ipynb#[DIP]) p.461"
   ]
  },
  {
   "cell_type": "markdown",
   "metadata": {},
   "source": [
    "## the watershed transform"
   ]
  },
  {
   "cell_type": "markdown",
   "metadata": {
    "collapsed": true
   },
   "source": [
    ">see also:\n",
    "* watershed in the mathematical morphology section"
   ]
  },
  {
   "cell_type": "code",
   "execution_count": null,
   "metadata": {},
   "outputs": [],
   "source": []
  }
 ],
 "metadata": {
  "kernelspec": {
   "display_name": "Python 3",
   "language": "python",
   "name": "python3"
  },
  "language_info": {
   "codemirror_mode": {
    "name": "ipython",
    "version": 3
   },
   "file_extension": ".py",
   "mimetype": "text/x-python",
   "name": "python",
   "nbconvert_exporter": "python",
   "pygments_lexer": "ipython3",
   "version": "3.7.7"
  }
 },
 "nbformat": 4,
 "nbformat_minor": 1
}
