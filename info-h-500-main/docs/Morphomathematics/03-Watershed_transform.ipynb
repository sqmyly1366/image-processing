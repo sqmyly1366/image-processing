{
 "cells": [
  {
   "cell_type": "code",
   "execution_count": null,
   "metadata": {},
   "outputs": [],
   "source": [
    "%matplotlib inline\n",
    "from IPython.display import HTML,Image,SVG,YouTubeVideo"
   ]
  },
  {
   "cell_type": "markdown",
   "metadata": {},
   "source": [
    "# The watershed transform\n",
    "## Principes\n",
    "\n",
    "\n",
    "The idea behind the watershed transform is to isolate regions of the image similarily to hydrographic region in geography. An image can indeed be seen as a 2D and a half data, i.e. with the gray level considered as the altitude. "
   ]
  },
  {
   "cell_type": "code",
   "execution_count": null,
   "metadata": {},
   "outputs": [],
   "source": [
    "Image('https://upload.wikimedia.org/wikipedia/commons/0/02/Amazonriverbasin_basemap.png')"
   ]
  },
  {
   "cell_type": "markdown",
   "metadata": {},
   "source": [
    "If one look at the gradient of an image, the borders of the objects correspond to the crests of the gradient surface.\n",
    "## Gradient crests"
   ]
  },
  {
   "cell_type": "code",
   "execution_count": null,
   "metadata": {},
   "outputs": [],
   "source": [
    "from skimage.io import imread\n",
    "import numpy as np\n",
    "from skimage.morphology import disk\n",
    "import skimage.filters.rank as skr\n",
    "from skimage.measure import label\n",
    "from skimage.morphology import disk\n",
    "from scipy import ndimage as ndi\n",
    "import matplotlib.pyplot as plt\n",
    "from skimage.segmentation import watershed,mark_boundaries\n",
    "from mpl_toolkits.mplot3d import axes3d, Axes3D\n",
    "\n",
    "ima = imread('../data/ws2.png')[:,:,0]\n",
    "gradient = skr.gradient(ima,disk(10))\n",
    "\n",
    "plt.subplot(1,2,1)\n",
    "plt.imshow(ima,cmap=plt.cm.gray)\n",
    "plt.subplot(1,2,2)\n",
    "plt.imshow(gradient,cmap=plt.cm.gray)\n",
    "\n",
    "m,n = gradient.shape\n",
    "\n",
    "\n",
    "fig = plt.figure(figsize=[10,10])\n",
    "ax = fig.gca(projection='3d')\n",
    "X,Y = np.meshgrid(range(n),range(m))\n",
    "Z = gradient\n",
    "\n",
    "\n",
    "\n",
    "ax.plot_surface(X, Y, Z, rstride=8, cstride=8, alpha=0.3);\n",
    "\n",
    "\n"
   ]
  },
  {
   "cell_type": "code",
   "execution_count": null,
   "metadata": {},
   "outputs": [],
   "source": [
    "Image('../data/watershed2.png')"
   ]
  },
  {
   "cell_type": "markdown",
   "metadata": {},
   "source": [
    "## local gradient\n",
    "local minima are extracted from the gradient image"
   ]
  },
  {
   "cell_type": "code",
   "execution_count": null,
   "metadata": {},
   "outputs": [],
   "source": [
    "local_min = gradient <= skr.minimum(gradient,disk(20))\n",
    "marks = label(local_min,background=0)\n",
    "\n",
    "plt.figure()\n",
    "plt.imshow(local_min);"
   ]
  },
  {
   "cell_type": "markdown",
   "metadata": {},
   "source": [
    "## watershed basins \n",
    "one watershed basin for each minimum"
   ]
  },
  {
   "cell_type": "code",
   "execution_count": null,
   "metadata": {},
   "outputs": [],
   "source": [
    "ws = watershed(gradient,marks)\n",
    "plt.figure()\n",
    "plt.imshow(ws);"
   ]
  },
  {
   "cell_type": "markdown",
   "metadata": {},
   "source": [
    "## basins border overlay \n",
    "the borders are align with the objects borders"
   ]
  },
  {
   "cell_type": "code",
   "execution_count": null,
   "metadata": {},
   "outputs": [],
   "source": [
    "result = mark_boundaries(ima,ws,outline_color=[1,0,0])\n",
    "\n",
    "plt.figure()\n",
    "plt.imshow(result);"
   ]
  },
  {
   "cell_type": "markdown",
   "metadata": {},
   "source": [
    "## Watershed pros and cons\n",
    "The watershed algorithm identifies each local basin starting from each local minimum of the image, each time two adjacent basins are merging, one add a virtual dam between the two basins in order to keep them separated, when the image is completely flooded, the top of the dams is the result of the watershed transform, in other words, the watershed segmentation is the split of the image into its basins.\n",
    "\n",
    "advantages of the watershed method\n",
    "\n",
    "* extremely sensitive to borders\n",
    "* produces closed borders (in fact it produces regions!)\n",
    "\n",
    "limitations of the method\n",
    "\n",
    "* produces a lot of regions (each local minimum !)\n",
    "* prone to over-segmentation\n",
    "\n",
    "\n",
    "solutions to limit over-segmentation\n",
    "\n",
    "* pre-filtering\n",
    "* using marked watershed (see example below)\n",
    "* merging adjacent basins having similar gray level, etc"
   ]
  },
  {
   "cell_type": "markdown",
   "metadata": {},
   "source": [
    "question:\n",
    "* how to build a good markers image ?"
   ]
  },
  {
   "cell_type": "markdown",
   "metadata": {
    "collapsed": true
   },
   "source": [
    "## Touching objects separation\n",
    "classical problem of spliting touching objects"
   ]
  },
  {
   "cell_type": "code",
   "execution_count": null,
   "metadata": {},
   "outputs": [],
   "source": [
    "import numpy as np\n",
    "from skimage.morphology import disk\n",
    "import skimage.filters.rank as skr\n",
    "from skimage.measure import label\n",
    "from scipy import ndimage as ndi\n",
    "import matplotlib.pyplot as plt\n",
    "from skimage.segmentation import watershed,mark_boundaries\n",
    "\n",
    "np.random.seed(1)\n",
    "n = (np.random.random((256,256))<.0005).astype(np.uint8)\n",
    "d = skr.maximum(n,disk(15))\n",
    "\n",
    "distance = ndi.distance_transform_edt(d).astype(np.uint8)\n",
    "local_max = (distance == skr.maximum(distance,disk(20))).astype(np.uint8)\n",
    "marks = label(local_max,background=0)\n",
    "\n",
    "ws = watershed(255-distance,marks)\n",
    "\n",
    "result = mark_boundaries(d,ws,outline_color=[1,0,0])\n",
    "\n",
    "plt.figure(figsize=[13,8])\n",
    "plt.subplot(2,3,1)\n",
    "plt.imshow(d)\n",
    "plt.title('X')\n",
    "plt.subplot(2,3,2)\n",
    "plt.imshow(255-distance)\n",
    "plt.title('$255-dist_X$')\n",
    "plt.subplot(2,3,3)\n",
    "plt.imshow(local_max,cmap=plt.cm.gray)\n",
    "plt.title('local maxima')\n",
    "plt.subplot(2,3,4)\n",
    "plt.imshow(marks)\n",
    "plt.title('markers')\n",
    "plt.subplot(2,3,5)\n",
    "plt.imshow(ws)\n",
    "plt.title('watershed')\n",
    "plt.subplot(2,3,6)\n",
    "plt.imshow(result)\n",
    "plt.title('borders');\n"
   ]
  },
  {
   "cell_type": "markdown",
   "metadata": {
    "collapsed": true
   },
   "source": [
    "## Cell segmentation example\n",
    "example of a segmentation for low contrast objects"
   ]
  },
  {
   "cell_type": "code",
   "execution_count": null,
   "metadata": {},
   "outputs": [],
   "source": [
    "import numpy as np\n",
    "from scipy import ndimage\n",
    "\n",
    "ima = imread('../data/cells.tif')\n",
    "\n",
    "#filtered version\n",
    "lp = skr.median(ima,disk(5))\n",
    "grad = skr.gradient(lp,disk(1))\n",
    "mark = skr.minimum(ima,disk(10))+10 >= ima\n",
    "\n",
    "lab = label(mark,background=0)\n",
    "ws = watershed(grad,lab)\n",
    "\n",
    "result = mark_boundaries(ima,ws,outline_color=[1,0,0])\n",
    "\n",
    "plt.figure(figsize=[13,8])\n",
    "plt.subplot(2,3,1)\n",
    "plt.imshow(ima,cmap=plt.cm.gray)\n",
    "plt.title('image')\n",
    "plt.subplot(2,3,2)\n",
    "plt.imshow(grad)\n",
    "plt.title('gradient')\n",
    "plt.subplot(2,3,3)\n",
    "plt.imshow(mark)\n",
    "plt.title('local minima')\n",
    "plt.subplot(2,3,4)\n",
    "plt.imshow(lab)\n",
    "plt.title('markers')\n",
    "plt.subplot(2,3,5)\n",
    "plt.imshow(ws)\n",
    "plt.title('watershed')\n",
    "plt.subplot(2,3,6)\n",
    "plt.imshow(result)\n",
    "plt.title('borders');\n"
   ]
  },
  {
   "cell_type": "code",
   "execution_count": null,
   "metadata": {},
   "outputs": [],
   "source": [
    "plt.figure(figsize=[20,20])\n",
    "plt.imshow(result)\n",
    "plt.title('borders');"
   ]
  },
  {
   "cell_type": "markdown",
   "metadata": {},
   "source": [
    "question:\n",
    "* how to group adjacent regions that share a similar gray level ?"
   ]
  },
  {
   "cell_type": "markdown",
   "metadata": {},
   "source": [
    ">see also:\n",
    "* The watershed transform **MMIP** pp443-481\n"
   ]
  },
  {
   "cell_type": "code",
   "execution_count": null,
   "metadata": {},
   "outputs": [],
   "source": []
  }
 ],
 "metadata": {
  "kernelspec": {
   "display_name": "Python 3",
   "language": "python",
   "name": "python3"
  },
  "language_info": {
   "codemirror_mode": {
    "name": "ipython",
    "version": 3
   },
   "file_extension": ".py",
   "mimetype": "text/x-python",
   "name": "python",
   "nbconvert_exporter": "python",
   "pygments_lexer": "ipython3",
   "version": "3.7.7"
  }
 },
 "nbformat": 4,
 "nbformat_minor": 1
}
