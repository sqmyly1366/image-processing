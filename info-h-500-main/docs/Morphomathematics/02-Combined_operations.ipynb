{
 "cells": [
  {
   "cell_type": "code",
   "execution_count": null,
   "metadata": {},
   "outputs": [],
   "source": [
    "%matplotlib inline\n",
    "from IPython.display import HTML,Image,SVG,YouTubeVideo"
   ]
  },
  {
   "cell_type": "markdown",
   "metadata": {},
   "source": [
    "# Combined operations\n",
    "## Morphological thinning and thickening \n",
    "by iterating the Hit-or-Miss transform and remove detected pixels from $X$.\n",
    "\n",
    "* thinning\n",
    "\n",
    "$$ X \\oslash B = X \\; | \\;(X \\otimes B)$$\n",
    "\n",
    "* thickening\n",
    "\n",
    "$$ X \\odot B = X \\cup (X \\otimes B)$$"
   ]
  },
  {
   "cell_type": "code",
   "execution_count": null,
   "metadata": {},
   "outputs": [],
   "source": [
    "import matplotlib.pyplot as plt\n",
    "import numpy as np\n",
    "from skimage.io import imread\n",
    "from skimage.morphology import erosion\n",
    "\n",
    "def hit_or_miss(X,B12):\n",
    "    B1 = B12 == 1\n",
    "    B2 = B12 == 0\n",
    "    r = np.logical_and(erosion(X,B1),erosion(1-X,B2))\n",
    "    return r\n",
    "\n",
    "def rotate_4(B):\n",
    "    #returns structuring element oriented in 4 directions\n",
    "    return [B,np.rot90(B),np.rot90(np.rot90(B)),np.rot90(np.rot90(np.rot90(B)))]\n",
    "\n",
    "X = (imread('http://homepages.ulb.ac.be/~odebeir/data/man.tif')>0)[:,:,0].astype(np.uint8)\n",
    "\n",
    "B = np.array([[2,1,2],[0,1,1],[0,0,2]]) # . are coded with 2\n",
    "\n",
    "#iterate on the four structuring element\n",
    "\n",
    "selem = rotate_4(B)\n",
    "\n",
    "R = X.copy()\n",
    "\n",
    "for i in range(10):\n",
    "    for s in selem:\n",
    "        HoM = hit_or_miss(R,s)  \n",
    "        R[HoM] = 0\n",
    "\n",
    "plt.figure(figsize=[10,10])\n",
    "plt.subplot(1,2,1)\n",
    "plt.imshow(X,interpolation='nearest')\n",
    "plt.subplot(1,2,2)\n",
    "plt.imshow(X,interpolation='nearest',alpha = .8)\n",
    "plt.imshow(R,interpolation='nearest',alpha=.5);\n",
    "\n"
   ]
  },
  {
   "cell_type": "markdown",
   "metadata": {},
   "source": [
    "### skeleton extraction\n",
    "\n",
    "A special case of thinning is the skeleton extraction, by applying the thickening for these two set of structuring elements, one can reduce every $X$ to single line structures sharing the same topology.\n",
    "\n",
    "$$\n",
    "\\begin{matrix}\n",
    "  0 & 0    & 0 \\\\\n",
    "  \\cdot     & 1    & \\cdot \\\\\n",
    "  1     & 1    & 1\n",
    " \\end{matrix}\n",
    " $$\n",
    " \n",
    " and\n",
    " \n",
    " $$\n",
    "\\begin{matrix}\n",
    "  \\cdot & 0    & 0 \\\\\n",
    "  1     & 1    & 0 \\\\\n",
    "  \\cdot     & 1    & \\cdot\n",
    " \\end{matrix}\n",
    " $$\n",
    " \n",
    "\n",
    "and there 3 other orientations."
   ]
  },
  {
   "cell_type": "code",
   "execution_count": null,
   "metadata": {},
   "outputs": [],
   "source": [
    "# skeletoninzing structuring elements\n",
    "B1 = np.array([[0,0,0],[2,1,2],[1,1,1]])\n",
    "B2 = np.array([[2,0,0],[1,1,0],[2,1,2]])\n",
    "selem = rotate_4(B1) + rotate_4(B2) #join the two list of structuring element\n",
    "\n",
    "X[1,15:17] = 1\n",
    "\n",
    "R = X.copy()\n",
    "\n",
    "for i in range(4):\n",
    "    for s in selem:\n",
    "        HoM = hit_or_miss(R,s)  \n",
    "        R[HoM] = 0\n",
    "\n",
    "plt.figure(figsize=[10,10])\n",
    "plt.subplot(1,2,1)\n",
    "plt.imshow(X,interpolation='nearest')\n",
    "plt.subplot(1,2,2)\n",
    "plt.imshow(X,interpolation='nearest',alpha = .8)\n",
    "plt.imshow(R,interpolation='nearest',alpha=.5);\n"
   ]
  },
  {
   "cell_type": "markdown",
   "metadata": {},
   "source": [
    "an application of the skeleton extraction is found in the pre-processing of fingerprints where we are looking for specific *minutiae*"
   ]
  },
  {
   "cell_type": "code",
   "execution_count": null,
   "metadata": {},
   "outputs": [],
   "source": [
    "from skimage.filters import threshold_otsu\n",
    "from skimage.morphology import skeletonize\n",
    "\n",
    "sub = 4\n",
    "im = imread('../data/Arch_in_the_right_index_fingerprint_of_a_woman.JPG')[1400:4000:sub,100:2900:sub,0]\n",
    "th_otsu = threshold_otsu(im)\n",
    "\n",
    "R = (im<th_otsu).copy()\n",
    "\n",
    "skeleton = skeletonize(R)\n",
    "\n",
    "plt.figure(figsize=[30,30])\n",
    "plt.subplot(3,1,1)\n",
    "plt.imshow(im,cmap=plt.cm.gray);\n",
    "\n",
    "plt.subplot(3,1,2)\n",
    "plt.imshow(R,cmap=plt.cm.gray);\n",
    "\n",
    "plt.subplot(3,1,3)\n",
    "plt.imshow(skeleton,cmap=plt.cm.gray);"
   ]
  },
  {
   "cell_type": "markdown",
   "metadata": {},
   "source": [
    "[image source](https://commons.wikimedia.org/wiki/File:Arch_in_the_right_index_fingerprint_of_a_woman.JPG)\n",
    "\n",
    ">see also:\n",
    "* Morphological algorithms [DIPM](../00-Preface/06-References.ipynb#[DIPM]) pp143-166"
   ]
  },
  {
   "cell_type": "markdown",
   "metadata": {},
   "source": [
    "### Pruning\n",
    "\n",
    "The skeleton, or other morphological processing can produce unwanted small artifacts, these irragularities can often be removed used by a process called pruning. \n",
    "\n",
    "Pruning is a specific thinning algorithm using the following structuring element (and ther rotations):\n",
    "\n",
    "$$\n",
    "\\begin{matrix}\n",
    "  0 & 0    & 0 \\\\\n",
    "  0     & 1    & 0 \\\\\n",
    "  0     & \\cdot    & \\cdot\n",
    " \\end{matrix}\n",
    " $$\n",
    " \n",
    " and\n",
    " \n",
    " $$\n",
    "\\begin{matrix}\n",
    "  0 & 0    & 0 \\\\\n",
    "  0     & 1    & 0 \\\\\n",
    "  \\cdot     & \\cdot    & 0\n",
    " \\end{matrix}\n",
    " $$\n",
    " \n",
    " and there 3 other orientations,\n",
    " example of a pruning applied iteratively on a binary skeleton:"
   ]
  },
  {
   "cell_type": "code",
   "execution_count": null,
   "metadata": {},
   "outputs": [],
   "source": [
    "ima = imread('http://homepages.ulb.ac.be/~odebeir/data/programs.png')[:,:,0] >10\n",
    "\n",
    "# skeletoninzing structuring elements\n",
    "B1 = np.array([[0,0,0],[2,1,2],[1,1,1]])\n",
    "B2 = np.array([[2,0,0],[1,1,0],[2,1,2]])\n",
    "selem = rotate_4(B1) + rotate_4(B2) #join the two list of structuring element\n",
    "\n",
    "R = ima.copy()\n",
    "\n",
    "for i in range(12):\n",
    "    for s in selem:\n",
    "        HoM = hit_or_miss(R,s)  \n",
    "        R[HoM] = 0\n",
    "\n",
    "plt.figure(figsize=[10,10])\n",
    "plt.subplot(1,2,1)\n",
    "plt.imshow(ima,interpolation='nearest',cmap=plt.cm.gray)\n",
    "plt.subplot(1,2,2)\n",
    "plt.imshow(ima,interpolation='nearest',alpha = .8,cmap=plt.cm.gray)\n",
    "plt.imshow(R,interpolation='nearest',alpha=.5,cmap=plt.cm.gray);\n"
   ]
  },
  {
   "cell_type": "code",
   "execution_count": null,
   "metadata": {},
   "outputs": [],
   "source": [
    "# pruning structuring elements\n",
    "B1 = np.array([[0,0,0],[0,1,0],[0,2,2]])\n",
    "B2 = np.array([[0,0,0],[0,1,0],[2,2,0]])\n",
    "selem = rotate_4(B1) + rotate_4(B2) #join the two list of structuring element\n",
    "\n",
    "plt.figure(figsize=[15,25])\n",
    "\n",
    "k = 1\n",
    "for i in range(24):\n",
    "    for s in selem:\n",
    "        HoM = hit_or_miss(R,s)  \n",
    "        R[HoM] = 0\n",
    "\n",
    "    if k%3 == 0:\n",
    "        plt.subplot(4,2,int(k/3))\n",
    "        plt.imshow(ima,interpolation='nearest',alpha = .7,cmap=plt.cm.gray)\n",
    "        plt.imshow(R.copy(),interpolation='nearest',alpha=.8,cmap=plt.cm.gray);\n",
    "    k += 1\n",
    "\n"
   ]
  },
  {
   "cell_type": "markdown",
   "metadata": {},
   "source": [
    "## Distance Map \n",
    "\n",
    "The distance function $dist_X$ associate to a set $X$, the distance for each point of $X$ to the background\n",
    "\n",
    "$$ dist_X(p) = min\\{n \\in \\mathbb \\; | \\; p \\notin X \\ominus nB \\}$$\n",
    "\n",
    "explicit distance map (brute force) computing can be computer intensive, therefore other appriximated distance are proposed\n",
    "\n",
    "* the city-block distance\n",
    "\n",
    "$$\n",
    "\\begin{matrix}\n",
    " & 1    &  \\\\\n",
    "1     & 0    & 1 \\\\\n",
    " & 1    &  \\\\\n",
    " \\end{matrix}\n",
    " $$\n",
    "\n",
    "* the chess-board distance\n",
    "\n",
    "$$\n",
    "\\begin{matrix}\n",
    "1 & 1  & 1 \\\\\n",
    "1     & 0    & 1 \\\\\n",
    "1 & 1  & 1 \\\\\n",
    " \\end{matrix}\n",
    " $$\n",
    "\n",
    "* the chamfer distance\n",
    "\n",
    "$$\n",
    "\\begin{matrix}\n",
    "4 & 3  & 4 \\\\\n",
    "3     & 0    & 3 \\\\\n",
    "4 & 3  & 4 \\\\\n",
    " \\end{matrix}\n",
    " $$\n"
   ]
  },
  {
   "cell_type": "code",
   "execution_count": null,
   "metadata": {},
   "outputs": [],
   "source": [
    "Image('../data/distances.png')"
   ]
  },
  {
   "cell_type": "code",
   "execution_count": null,
   "metadata": {},
   "outputs": [],
   "source": [
    "from scipy.ndimage import distance_transform_cdt,distance_transform_edt,distance_transform_bf\n",
    "import matplotlib.pyplot as plt\n",
    "import numpy as np\n",
    "\n",
    "X = np.asarray([[0,0,0,0,0,0,0,0,0],\n",
    "                [0,0,0,0,0,0,0,0,0],\n",
    "                [0,0,0,0,0,0,0,0,0],\n",
    "                [0,0,0,0,0,0,0,0,0],\n",
    "                [0,0,0,1,1,1,0,0,0],\n",
    "                [0,0,1,1,1,0,0,0,0],\n",
    "                [0,0,1,1,1,1,0,0,0],\n",
    "                [0,0,1,1,1,0,0,0,0],\n",
    "                [0,0,0,1,0,0,0,0,0],\n",
    "                [0,0,0,0,0,0,0,0,0],\n",
    "                [0,0,0,0,0,0,0,0,0]])\n",
    "\n",
    "dist_X = distance_transform_edt(X)\n",
    "dist_bf = distance_transform_bf(X)\n",
    "dist_c = distance_transform_cdt(X)\n",
    "\n",
    "plt.figure(figsize=[8,8])\n",
    "plt.subplot(2,2,1)\n",
    "plt.imshow(X,interpolation='nearest',cmap=plt.cm.gray);X = np.zeros((10,10))\n",
    "plt.title('X')\n",
    "plt.colorbar()\n",
    "plt.subplot(2,2,2)\n",
    "plt.imshow(dist_X,interpolation='nearest',cmap=plt.cm.gray);X = np.zeros((10,10))\n",
    "plt.title('Euclidian distance map')\n",
    "plt.colorbar();\n",
    "plt.subplot(2,2,3)\n",
    "plt.imshow(dist_c,interpolation='nearest',cmap=plt.cm.gray);X = np.zeros((10,10))\n",
    "plt.title('Chamfer distance map')\n",
    "plt.colorbar()\n",
    "plt.subplot(2,2,4)\n",
    "plt.imshow(dist_bf,interpolation='nearest',cmap=plt.cm.gray);X = np.zeros((10,10))\n",
    "plt.title('Brute force distance map')\n",
    "plt.colorbar();\n"
   ]
  },
  {
   "cell_type": "markdown",
   "metadata": {},
   "source": [
    ">see also:\n",
    "* Distance Function [DIP](../00-Preface/06-References.ipynb#[DIP]) p.73\n",
    "* Euclidian Distance Map [IPH](../00-Preface/06-References.ipynb#[IPH])"
   ]
  },
  {
   "cell_type": "markdown",
   "metadata": {},
   "source": [
    "## Ultimate Eroded Point (UEP) "
   ]
  },
  {
   "cell_type": "code",
   "execution_count": null,
   "metadata": {},
   "outputs": [],
   "source": [
    "import numpy as np\n",
    "from skimage.morphology import disk\n",
    "import skimage.filters.rank as skr\n",
    "from scipy import ndimage as ndi\n",
    "\n",
    "np.random.seed(1)\n",
    "n = (np.random.random((256,256))<.0005).astype(np.uint8)\n",
    "d = skr.maximum(n,disk(15))\n",
    "\n",
    "distance = ndi.distance_transform_edt(d).astype(np.uint8)\n",
    "local_max = (distance == skr.maximum(distance,disk(20))).astype(np.uint8)\n",
    "background = distance == 0\n",
    "c_local_max = local_max.copy()\n",
    "c_local_max[background] = 0\n",
    "\n",
    "\n",
    "plt.figure(figsize=[13,8])\n",
    "plt.subplot(2,3,1)\n",
    "plt.imshow(d)\n",
    "plt.subplot(2,3,2)\n",
    "plt.imshow(distance)\n",
    "plt.subplot(2,3,3)\n",
    "plt.imshow(skr.maximum(local_max,disk(2)),cmap=plt.cm.gray)\n",
    "plt.subplot(2,3,4)\n",
    "plt.imshow(background)\n",
    "plt.subplot(2,3,5)\n",
    "plt.imshow(d,alpha=.5)\n",
    "plt.imshow(skr.maximum(c_local_max,disk(2)),cmap=plt.cm.gray,alpha=.5);"
   ]
  },
  {
   "cell_type": "markdown",
   "metadata": {},
   "source": [
    ">see also:\n",
    "* Ultimate Eroded Point **IPH**"
   ]
  },
  {
   "cell_type": "markdown",
   "metadata": {},
   "source": [
    "## Object labeling\n",
    "\n",
    "The object labeling consist in assigning a unique integer value to each connected component of a binary image."
   ]
  },
  {
   "cell_type": "code",
   "execution_count": null,
   "metadata": {},
   "outputs": [],
   "source": [
    "from skimage.measure import label\n",
    "\n",
    "ima = imread('http://homepages.ulb.ac.be/~odebeir/data/programs.png')[:,:,0] >10\n",
    "\n",
    "lab = label(ima,background=0)\n",
    "plt.figure(figsize=[20,5])\n",
    "plt.subplot(1,2,1)\n",
    "plt.imshow(ima.astype(np.uint8))\n",
    "plt.colorbar()\n",
    "plt.subplot(1,2,2)\n",
    "plt.imshow(lab)\n",
    "plt.colorbar();"
   ]
  },
  {
   "cell_type": "markdown",
   "metadata": {},
   "source": [
    "## Hole filling"
   ]
  },
  {
   "cell_type": "markdown",
   "metadata": {},
   "source": [
    "## Alternate Sequential Filter"
   ]
  },
  {
   "cell_type": "markdown",
   "metadata": {},
   "source": [
    "## Morphological texture analysis \n",
    "\n",
    ">see also:\n",
    "* Morphological texture analysis **DIPM** pp43-102"
   ]
  },
  {
   "cell_type": "code",
   "execution_count": null,
   "metadata": {},
   "outputs": [],
   "source": [
    "\n"
   ]
  },
  {
   "cell_type": "code",
   "execution_count": null,
   "metadata": {},
   "outputs": [],
   "source": []
  }
 ],
 "metadata": {
  "kernelspec": {
   "display_name": "Python 3",
   "language": "python",
   "name": "python3"
  },
  "language_info": {
   "codemirror_mode": {
    "name": "ipython",
    "version": 3
   },
   "file_extension": ".py",
   "mimetype": "text/x-python",
   "name": "python",
   "nbconvert_exporter": "python",
   "pygments_lexer": "ipython3",
   "version": "3.7.7"
  }
 },
 "nbformat": 4,
 "nbformat_minor": 1
}
