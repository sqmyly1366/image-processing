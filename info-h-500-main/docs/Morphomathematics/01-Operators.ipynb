{
 "cells": [
  {
   "cell_type": "code",
   "execution_count": null,
   "metadata": {},
   "outputs": [],
   "source": [
    "%matplotlib inline"
   ]
  },
  {
   "cell_type": "markdown",
   "metadata": {},
   "source": [
    "# Morphomathematical operators\n",
    "\n",
    "## Definitions"
   ]
  },
  {
   "cell_type": "markdown",
   "metadata": {},
   "source": [
    "### Image\n",
    "The image $X$ is defined as a the set of pixels, connect or not, equal to $1$ (or True), the backgound being set to $0$ (or False)."
   ]
  },
  {
   "cell_type": "code",
   "execution_count": null,
   "metadata": {},
   "outputs": [],
   "source": [
    "import matplotlib.pyplot as plt\n",
    "import numpy as np\n",
    "X = np.asarray([[0,0,0,0,0,0,0,0,0],\n",
    "                [0,0,0,0,0,0,0,0,0],\n",
    "                [0,0,0,0,0,0,0,0,0],\n",
    "                [0,0,0,0,0,0,0,0,0],\n",
    "                [0,0,0,1,1,1,0,0,0],\n",
    "                [0,0,1,1,1,0,0,0,0],\n",
    "                [0,0,1,1,1,1,0,0,0],\n",
    "                [0,0,1,1,1,0,0,0,0],\n",
    "                [0,0,0,1,0,0,0,0,0],\n",
    "                [0,0,0,0,0,0,0,0,0],\n",
    "                [0,0,0,0,0,0,0,0,0]])\n",
    "plt.imshow(X,interpolation='nearest',cmap=plt.cm.gray);"
   ]
  },
  {
   "cell_type": "markdown",
   "metadata": {},
   "source": [
    "### Structuring element"
   ]
  },
  {
   "cell_type": "markdown",
   "metadata": {},
   "source": [
    "similarily one define a structuring element $B$ as a set of pixels (connected or not) having one origin $o$. Example of a 3x3 centered structuring element:"
   ]
  },
  {
   "cell_type": "code",
   "execution_count": null,
   "metadata": {},
   "outputs": [],
   "source": [
    "B = np.ones((3,3))\n",
    "plt.imshow(B,interpolation='nearest',cmap=plt.cm.gray)\n",
    "plt.plot(1,1,'or')\n",
    "plt.gca().set_xlim(-1,3)\n",
    "plt.gca().set_ylim(-1,3);"
   ]
  },
  {
   "cell_type": "markdown",
   "metadata": {},
   "source": [
    "## Basic operations\n",
    "### Image complement\n",
    "Image complement consist in seting True pixels to false an False pixels to True, Image and background are switched.\n",
    "\n",
    "$$X^c = \\{x: x \\notin X\\}$$"
   ]
  },
  {
   "cell_type": "code",
   "execution_count": null,
   "metadata": {},
   "outputs": [],
   "source": [
    "Xc = 1-X\n",
    "plt.imshow(Xc,interpolation='nearest',cmap=plt.cm.gray);"
   ]
  },
  {
   "cell_type": "markdown",
   "metadata": {},
   "source": [
    "### Symmetry\n",
    "\n",
    "$\\hat X$ is the reflection of $X$ through the origin"
   ]
  },
  {
   "cell_type": "code",
   "execution_count": null,
   "metadata": {},
   "outputs": [],
   "source": [
    "Xs = X[:,-1::-1][-1::-1,:]\n",
    "plt.imshow(Xs,interpolation='nearest',cmap=plt.cm.gray);"
   ]
  },
  {
   "cell_type": "markdown",
   "metadata": {},
   "source": [
    "### Translation\n",
    "The $B_x$ structuring undergoes a 2D translation in the pixel $x = (3,5)$."
   ]
  },
  {
   "cell_type": "code",
   "execution_count": null,
   "metadata": {},
   "outputs": [],
   "source": [
    "Bx = np.zeros((10,10))\n",
    "x = (3,5)\n",
    "Bx[x[1]-1:x[1]+2,x[0]-1:x[0]+2] = B\n",
    "plt.plot(3,5,'or')\n",
    "plt.imshow(Bx,interpolation='nearest',cmap=plt.cm.gray);"
   ]
  },
  {
   "cell_type": "markdown",
   "metadata": {},
   "source": [
    "### Difference\n",
    "$$A-B = \\{x: x \\in A, x \\notin B\\} = A \\cap B^c$$"
   ]
  },
  {
   "cell_type": "markdown",
   "metadata": {},
   "source": [
    "### Dilation\n",
    "Dilation is defined such as:\n",
    "$$X \\oplus B = \\{x : \\hat B_x \\cap X \\ne \\phi \\}$$"
   ]
  },
  {
   "cell_type": "markdown",
   "metadata": {},
   "source": [
    "### Erosion\n",
    "Erosion is defined such as:\n",
    "$$X \\ominus B = \\{x : B_x \\subseteq X  \\}$$"
   ]
  },
  {
   "cell_type": "code",
   "execution_count": null,
   "metadata": {},
   "outputs": [],
   "source": [
    "from skimage.morphology import disk,erosion,dilation,square\n",
    "B = square(3)\n",
    "X_dil = dilation(X,selem=B)\n",
    "X_ero = erosion(X,selem=B)\n",
    "\n",
    "plt.figure(figsize=[10,5])\n",
    "plt.subplot(1,3,1)\n",
    "plt.imshow(X,interpolation='nearest',cmap=plt.cm.gray)\n",
    "plt.title('$X$')\n",
    "plt.subplot(1,3,2)\n",
    "plt.imshow(X_dil,interpolation='nearest',cmap=plt.cm.gray)\n",
    "plt.title('dilation of $X$ by $B$')\n",
    "plt.subplot(1,3,3)\n",
    "plt.imshow(X_ero,interpolation='nearest',cmap=plt.cm.gray)\n",
    "plt.title('erosion of $X$ by $B$')\n",
    "plt.figure(figsize=[6,6])\n",
    "plt.imshow(X,interpolation='nearest',cmap=plt.cm.gray,alpha=.3)\n",
    "plt.imshow(X_ero,interpolation='nearest',cmap=plt.cm.gray,alpha=.3)\n",
    "plt.imshow(X_dil,interpolation='nearest',cmap=plt.cm.gray,alpha=.3);"
   ]
  },
  {
   "cell_type": "markdown",
   "metadata": {},
   "source": [
    "### Duality\n",
    "\n",
    "There is a duality between erosion and dilation\n",
    "\n",
    "$$(X \\ominus B )^c = X^c \\oplus \\hat B$$\n",
    "$$(X \\oplus B)^c = X^c \\ominus \\hat B$$\n",
    "\n",
    "In other words, dilating $X$ is the same as eroding $X^c$ by the symetrical structuring element\n",
    "\n",
    "demonstration for $(X \\ominus B )^c = X^c \\oplus \\hat B$:\n",
    "\n",
    "$$(X \\ominus B)^c = \\{x : B_x \\subseteq X  \\}^c$$\n",
    "\n",
    "if $B_x$ is include in $X$:\n",
    "\n",
    "$$B_x \\cap X^c = \\phi$$\n",
    "\n",
    "so:\n",
    "\n",
    "$$(X \\ominus B)^c = \\{x : B_x \\cap X^c = \\phi  \\}^c$$\n",
    "\n",
    "by using the complement:\n",
    "\n",
    "$$\\{x : B_x \\cap X^c = \\phi  \\}^c = \\{x : B_x \\cap X^c \\neq \\phi  \\}$$\n",
    "\n",
    "equality becomes:\n",
    "\n",
    "$$(X \\ominus B)^c = \\{x : B_x \\cap X^c \\neq \\phi  \\} = X^c \\oplus \\hat B $$\n",
    "\n"
   ]
  },
  {
   "cell_type": "markdown",
   "metadata": {},
   "source": [
    "### Properties of the basic operations\n",
    "\n",
    "Dilation is:\n",
    "* commutative\n",
    "\n",
    "$$ X \\oplus B = B \\oplus X$$\n",
    "\n",
    "* associative\n",
    "\n",
    "$$X \\oplus (B \\oplus C) = (X\\oplus B) \\oplus C$$\n",
    "\n",
    "* translation invariant\n",
    "\n",
    "$$ X_h \\oplus B = (X \\oplus B)_h$$\n",
    "\n",
    "* increasing\n",
    "\n",
    "$$ A_1 \\subseteq A_2 \\implies A_1 \\oplus B \\subseteq A_2 \\oplus B$$\n",
    "$$ B_1 \\subseteq B_2 \\implies A \\oplus B_1 \\subseteq A \\oplus B_2$$\n",
    "\n",
    "Erosion is:\n",
    "\n",
    "* NOT commutative\n",
    "\n",
    "$$ X \\ominus B \\neq B \\ominus X$$\n",
    "\n",
    "* translation invariant\n",
    "\n",
    "$$ X_h \\ominus B = (X \\ominus B)_h$$\n",
    "\n",
    "* increasing\n",
    "\n",
    "$$ A_1 \\subseteq A_2 \\implies A_1 \\ominus B \\subseteq A_2 \\ominus B$$\n",
    "but (one erode less !)\n",
    "$$ B_1 \\subseteq B_2 \\implies A \\ominus B_1 \\supseteq A \\ominus B_2$$\n",
    "\n",
    "Dilation by the union of two structuring elements:\n",
    "    \n",
    "$$X \\oplus (B \\cup C) = (X \\oplus B) \\cup (X \\oplus C) = (B \\cup C) \\oplus X$$    \n",
    "    \n",
    "Erosion by the union of two structuring elements:\n",
    "\n",
    "$$ X \\ominus (B \\cup C) = (X \\ominus B) \\cap (X \\ominus C)$$\n",
    "\n",
    "$$(X \\ominus B) \\ominus C = X \\ominus (B \\oplus C) $$"
   ]
  },
  {
   "cell_type": "markdown",
   "metadata": {},
   "source": [
    "## Combined operations\n",
    "More complex operation can be achieved by combining two ore more basis operators, the simplest ones are the opening and the closing.\n",
    "\n",
    "\n",
    "### Opening\n",
    "Opening consist in applying in succession one erosion followed by one dilation, both using a same structuring element.\n",
    "\n",
    "$$ X \\circ B = (X \\ominus B) \\oplus B $$ \n",
    "\n",
    "Opening 'opens' small gaps existing in the shape.\n"
   ]
  },
  {
   "cell_type": "markdown",
   "metadata": {},
   "source": [
    "### Closing\n",
    "Opening consist in applying in succession one dilation followed by one erosion, both using a same structuring element.\n",
    "\n",
    "$$ X \\bullet B = (X \\oplus B) \\ominus B $$ \n",
    "\n",
    "Closing 'closes' the gaps present in the shape.\n",
    "\n",
    "Opening and closing are illustrated below with a 3x3 square structuring element $B$:\n",
    "\n",
    "Therse is an opening and closing duality:\n",
    "\n",
    "$$(X \\circ B)^c = X^c \\bullet B $$"
   ]
  },
  {
   "cell_type": "code",
   "execution_count": null,
   "metadata": {},
   "outputs": [],
   "source": [
    "B = square(3)\n",
    "X_dil = dilation(X,selem=B)\n",
    "X_ero = erosion(X,selem=B)\n",
    "\n",
    "X_open = dilation(X_ero,selem=B)\n",
    "X_close = erosion(X_dil,selem=B)\n",
    "\n",
    "plt.figure(figsize=[10,5])\n",
    "plt.subplot(1,3,1)\n",
    "plt.imshow(X,interpolation='nearest',cmap=plt.cm.gray)\n",
    "plt.title('$X$')\n",
    "plt.subplot(1,3,2)\n",
    "plt.imshow(X_open,interpolation='nearest',cmap=plt.cm.gray)\n",
    "plt.title('opening of $X$ by $B$')\n",
    "plt.subplot(1,3,3)\n",
    "plt.imshow(X_close,interpolation='nearest',cmap=plt.cm.gray)\n",
    "plt.title('closing of $X$ by $B$')\n",
    "plt.figure(figsize=[6,6])\n",
    "plt.imshow(X,interpolation='nearest',cmap=plt.cm.gray,alpha=.3)\n",
    "plt.imshow(X_open,interpolation='nearest',cmap=plt.cm.gray,alpha=.3)\n",
    "plt.imshow(X_close,interpolation='nearest',cmap=plt.cm.gray,alpha=.3);"
   ]
  },
  {
   "cell_type": "markdown",
   "metadata": {},
   "source": [
    "some examples with a 3x3 structuring element $B$"
   ]
  },
  {
   "cell_type": "code",
   "execution_count": null,
   "metadata": {},
   "outputs": [],
   "source": [
    "import numpy as np\n",
    "X = np.zeros((100, 150), dtype=bool)\n",
    "X[30, :] = 1\n",
    "X[:, 65] = 1\n",
    "X[35:45, 35:50] = 1\n",
    "X[40:50,100:110] = 1\n",
    "X[52:82,100:110] = 1\n",
    "X[50:52,105:106] = 1\n",
    "X[45:46,105:106] = 0\n",
    "X[70:72,104:106] = 0\n",
    "X[64:67,103:106] = 0\n",
    "\n",
    "B = square(3)\n",
    "X_dil = dilation(X,selem=B)\n",
    "X_ero = erosion(X,selem=B)\n",
    "\n",
    "X_open = dilation(X_ero,selem=B)\n",
    "X_close = erosion(X_dil,selem=B)\n",
    "\n",
    "plt.figure(figsize=[10,10])\n",
    "plt.subplot(3,2,1)\n",
    "plt.imshow(X,interpolation='nearest',cmap=plt.cm.gray)\n",
    "plt.title('$X$')\n",
    "plt.subplot(3,2,3)\n",
    "plt.imshow(X_ero,interpolation='nearest',cmap=plt.cm.gray)\n",
    "plt.title('erosion of $X$ by $B$')\n",
    "plt.subplot(3,2,4)\n",
    "plt.imshow(X_dil,interpolation='nearest',cmap=plt.cm.gray)\n",
    "plt.title('dilation of $X$ by $B$')\n",
    "plt.subplot(3,2,5)\n",
    "plt.imshow(X_open,interpolation='nearest',cmap=plt.cm.gray)\n",
    "plt.title('opening of $X$ by $B$')\n",
    "plt.subplot(3,2,6)\n",
    "plt.imshow(X_close,interpolation='nearest',cmap=plt.cm.gray)\n",
    "plt.title('closing of $X$ by $B$');\n"
   ]
  },
  {
   "cell_type": "code",
   "execution_count": null,
   "metadata": {},
   "outputs": [],
   "source": [
    "from skimage.io import imread\n",
    "from skimage import feature\n",
    "\n",
    "ct = imread('https://upload.wikimedia.org/wikipedia/commons/5/5f/MRI_EGC_sagittal.png')[-1::-1,:,:]\n",
    "canny = feature.canny(ct[:,:,0],low_threshold=.1*255,high_threshold=.4*255)*255\n",
    "\n",
    "plt.figure(figsize=[10,10])\n",
    "plt.imshow(canny[-1::-1,:]);"
   ]
  },
  {
   "cell_type": "code",
   "execution_count": null,
   "metadata": {},
   "outputs": [],
   "source": [
    "selem = square(3)\n",
    "ct_close = erosion(dilation(canny,selem=selem),selem=selem)\n",
    "plt.figure(figsize=[10,10])\n",
    "plt.imshow(ct_close[-1::-1,:]);"
   ]
  },
  {
   "cell_type": "markdown",
   "metadata": {},
   "source": [
    "### Properties of the combined operations\n",
    "\n",
    "Opening is:\n",
    "\n",
    "* anti-extensive\n",
    "\n",
    "$$X \\circ B \\subseteq X$$\n",
    "\n",
    "* idempotent\n",
    "\n",
    "$$ (X \\circ B)\\circ B = X \\circ B$$\n",
    "$$ (X \\circ B)\\circ \\dots \\circ B = X \\circ B$$\n",
    "\n",
    "Closing is:\n",
    "\n",
    "* extensive\n",
    "\n",
    "$$ X \\subseteq X \\bullet B$$\n",
    "\n",
    "* idempotent\n",
    "$$ (X \\bullet B)\\bullet B = X \\bullet B$$\n",
    "$$ (X \\bullet B)\\bullet \\dots \\bullet B = X \\bullet B$$\n"
   ]
  },
  {
   "cell_type": "markdown",
   "metadata": {},
   "source": [
    "## The Hit-or-Miss transform\n",
    "\n",
    "One define two disjoint structuring elements $B_1$ and $B_2$\n",
    "\n",
    "the Hit-or-Miss transform is:\n",
    "\n",
    "$$ X \\otimes B =  \\{ X : B_1 \\subset X \\; \\text{and} \\; B_2 \\subset X^c\\}$$\n",
    "\n",
    "$$ X \\otimes B = (X \\ominus B_1) \\cap (X^c \\ominus B_2) $$\n",
    "\n",
    "which it is equivallent to a binary template matching.\n",
    "\n",
    "example of structuring elements:\n",
    "\n",
    "$$\n",
    "\\begin{matrix}\n",
    "  \\cdot & 1    & \\cdot \\\\\n",
    "  0     & 1    & 1 \\\\\n",
    "  0     & 0    & \\cdot\n",
    " \\end{matrix}\n",
    " $$"
   ]
  },
  {
   "cell_type": "code",
   "execution_count": null,
   "metadata": {},
   "outputs": [],
   "source": [
    "def hit_or_miss(X,B12):\n",
    "    B1 = B12 == 1\n",
    "    B2 = B12 == 0\n",
    "    r = np.logical_and(erosion(X,B1),erosion(1-X,B2))\n",
    "    return r\n",
    "\n",
    "X = (imread('http://homepages.ulb.ac.be/~odebeir/data/man.tif')>0)[:,:,0].astype(np.uint8)\n",
    "B12_a = np.array([[2,1,2],[0,1,1],[0,0,2]]) # . are coded with 2\n",
    "\n",
    "HoM = hit_or_miss(X,B12_a)  \n",
    "\n",
    "plt.figure(figsize=[10,10])\n",
    "plt.subplot(1,2,1)\n",
    "plt.imshow(X,interpolation='nearest')\n",
    "plt.subplot(1,2,2)\n",
    "plt.imshow(X,interpolation='nearest',alpha = .8)\n",
    "plt.imshow(HoM,interpolation='nearest',alpha=.5);\n"
   ]
  },
  {
   "cell_type": "markdown",
   "metadata": {},
   "source": [
    "with the following elements:\n",
    "$$\n",
    "\\begin{matrix}\n",
    "  \\cdot & 1    & \\cdot \\\\\n",
    "  1     & 1    & 0 \\\\\n",
    "  \\cdot & 0    & 0\n",
    " \\end{matrix}\n",
    "$$\n",
    "\n",
    "and\n",
    "\n",
    "$$\n",
    "\\begin{matrix}\n",
    "  \\cdot &  0  & 0 \\\\\n",
    "  1     & 1    & 0 \\\\\n",
    "  \\cdot & 1    & \\cdot\n",
    " \\end{matrix}\n",
    "$$\n",
    "\n",
    "and\n",
    "\n",
    "$$\n",
    "\\begin{matrix}\n",
    "  0 &  0  & \\cdot \\\\\n",
    "  0     & 1    & 1 \\\\\n",
    "  \\cdot & 1    & \\cdot\n",
    " \\end{matrix}\n",
    "$$\n",
    "\n",
    "$X$ becomes:"
   ]
  },
  {
   "cell_type": "code",
   "execution_count": null,
   "metadata": {},
   "outputs": [],
   "source": [
    "B12_b = B12_a[:,-1::-1]\n",
    "\n",
    "HoM = hit_or_miss(X,B12_b)  \n",
    "\n",
    "plt.figure(figsize=[10,10])\n",
    "plt.subplot(1,2,1)\n",
    "plt.imshow(X,interpolation='nearest')\n",
    "plt.subplot(1,2,2)\n",
    "plt.imshow(X,interpolation='nearest',alpha = .8)\n",
    "plt.imshow(HoM,interpolation='nearest',alpha=.5);\n"
   ]
  },
  {
   "cell_type": "code",
   "execution_count": null,
   "metadata": {},
   "outputs": [],
   "source": [
    "B12_c = B12_b[-1::-1,:]\n",
    "\n",
    "HoM = hit_or_miss(X,B12_c)  \n",
    "\n",
    "plt.figure(figsize=[10,10])\n",
    "plt.subplot(1,2,1)\n",
    "plt.imshow(X,interpolation='nearest')\n",
    "plt.subplot(1,2,2)\n",
    "plt.imshow(X,interpolation='nearest',alpha = .8)\n",
    "plt.imshow(HoM,interpolation='nearest',alpha=.5);\n"
   ]
  },
  {
   "cell_type": "code",
   "execution_count": null,
   "metadata": {},
   "outputs": [],
   "source": [
    "B12_d = B12_c[:,-1::-1]\n",
    "\n",
    "HoM = hit_or_miss(X,B12_d)\n",
    "\n",
    "plt.figure(figsize=[10,10])\n",
    "plt.subplot(1,2,1)\n",
    "plt.imshow(X,interpolation='nearest')\n",
    "plt.subplot(1,2,2)\n",
    "plt.imshow(X,interpolation='nearest',alpha = .8)\n",
    "plt.imshow(HoM,interpolation='nearest',alpha=.5);\n"
   ]
  },
  {
   "cell_type": "markdown",
   "metadata": {},
   "source": [
    "### other Hit-or-Miss structuring elements:\n",
    "\n",
    "* isolated points\n",
    "    \n",
    "    $$\n",
    "\\begin{matrix}\n",
    "  0 &  0  & 0 \\\\\n",
    "  0     & 1    & 0 \\\\\n",
    "  0 & 0    & 0\n",
    " \\end{matrix}\n",
    "$$\n",
    "\n",
    "* terminaisons (+ 3 rotations)\n",
    "\n",
    "$$\n",
    "\\begin{matrix}\n",
    "  \\cdot &  \\cdot  & \\cdot \\\\\n",
    "  0     & 1    & 0 \\\\\n",
    "  0 & 0    & 0\n",
    " \\end{matrix}\n",
    "$$ \n",
    "\n",
    "* triple point detection on a skeleton (+ 3 rotations)\n",
    "\n",
    "$$\n",
    "\\begin{matrix}\n",
    "  0 &  1  & 0 \\\\\n",
    "  0     & 1    & 0 \\\\\n",
    "  1 & 0    & 1\n",
    " \\end{matrix}\n",
    "$$ \n",
    "\n",
    "and\n",
    "\n",
    "$$\n",
    "\\begin{matrix}\n",
    "  1 &  0  & 0 \\\\\n",
    "  0     & 1    & 0 \\\\\n",
    "  1 & 0    & 1\n",
    " \\end{matrix}\n",
    "$$ \n",
    "\n",
    "* pruning (+ 3 rotations)\n",
    "\n",
    "$$\n",
    "\\begin{matrix}\n",
    "  0 &  0  & 0 \\\\\n",
    "  0     & 1    & 0 \\\\\n",
    "  0 & \\cdot    & \\cdot\n",
    " \\end{matrix}\n",
    "$$ \n",
    "\n",
    "and\n",
    "\n",
    "$$\n",
    "\\begin{matrix}\n",
    "  0 &  0  & 0 \\\\\n",
    "  0     & 1    & 0 \\\\\n",
    "  \\cdot & \\cdot    & 0\n",
    " \\end{matrix}\n",
    "$$ \n",
    "\n",
    "\n",
    "\n",
    "    "
   ]
  },
  {
   "cell_type": "markdown",
   "metadata": {},
   "source": [
    ">see also:\n",
    "* Morphological algorithms **MMIP** p255-288"
   ]
  }
 ],
 "metadata": {
  "kernelspec": {
   "display_name": "Python 3",
   "language": "python",
   "name": "python3"
  },
  "language_info": {
   "codemirror_mode": {
    "name": "ipython",
    "version": 3
   },
   "file_extension": ".py",
   "mimetype": "text/x-python",
   "name": "python",
   "nbconvert_exporter": "python",
   "pygments_lexer": "ipython3",
   "version": "3.7.7"
  }
 },
 "nbformat": 4,
 "nbformat_minor": 1
}
